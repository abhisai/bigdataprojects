{
 "cells": [
  {
   "cell_type": "markdown",
   "metadata": {
    "application/vnd.databricks.v1+cell": {
     "cellMetadata": {},
     "inputWidgets": {},
     "nuid": "6826e7ee-40c1-4270-af1b-63df7ea9a347",
     "showTitle": false,
     "title": ""
    }
   },
   "source": [
    "We will learn about how to read ADLS GEN2 from Databricks using service principle and also how to write back to ADLS Gen2 from Databricks"
   ]
  },
  {
   "cell_type": "code",
   "execution_count": 0,
   "metadata": {
    "application/vnd.databricks.v1+cell": {
     "cellMetadata": {
      "byteLimit": 2048000,
      "rowLimit": 10000
     },
     "inputWidgets": {},
     "nuid": "51b71ebd-12ef-4ff1-9194-190e270adbc5",
     "showTitle": false,
     "title": ""
    }
   },
   "outputs": [],
   "source": [
    "## Here i have hardcoded application ID and directory ID . We can add them as well in Azure Key Vault and access them here securely without exposing.\n",
    "\n",
    "service_credential = dbutils.secrets.get(scope=\"databricks-scope-abhi\",key=\"service-principle-value\")\n",
    "\n",
    "spark.conf.set(\"fs.azure.account.auth.type.abhisaitestsa.dfs.core.windows.net\", \"OAuth\")\n",
    "spark.conf.set(\"fs.azure.account.oauth.provider.type.abhisaitestsa.dfs.core.windows.net\", \"org.apache.hadoop.fs.azurebfs.oauth2.ClientCredsTokenProvider\")\n",
    "spark.conf.set(\"fs.azure.account.oauth2.client.id.abhisaitestsa.dfs.core.windows.net\", \"bd9a6c06-8af1-44ca-86cc-9e579edda1b8\")\n",
    "spark.conf.set(\"fs.azure.account.oauth2.client.secret.abhisaitestsa.dfs.core.windows.net\", service_credential)\n",
    "spark.conf.set(\"fs.azure.account.oauth2.client.endpoint.abhisaitestsa.dfs.core.windows.net\", \"https://login.microsoftonline.com/d4d0fbf8-a93d-4af0-a91a-27703219bb79/oauth2/token\")"
   ]
  },
  {
   "cell_type": "code",
   "execution_count": 0,
   "metadata": {
    "application/vnd.databricks.v1+cell": {
     "cellMetadata": {
      "byteLimit": 2048000,
      "rowLimit": 10000
     },
     "inputWidgets": {},
     "nuid": "0b659f27-f07e-48cd-ab95-53d97bc3ab7f",
     "showTitle": false,
     "title": ""
    }
   },
   "outputs": [
    {
     "output_type": "execute_result",
     "data": {
      "text/plain": [
       "[FileInfo(path='abfss://input@abhisaitestsa.dfs.core.windows.net/customers_orders_data/', name='customers_orders_data/', size=0, modificationTime=1701271897000)]"
      ]
     },
     "execution_count": 3,
     "metadata": {},
     "output_type": "execute_result"
    }
   ],
   "source": [
    "dbutils.fs.ls(\"abfss://input@abhisaitestsa.dfs.core.windows.net/\")"
   ]
  },
  {
   "cell_type": "code",
   "execution_count": 0,
   "metadata": {
    "application/vnd.databricks.v1+cell": {
     "cellMetadata": {
      "byteLimit": 2048000,
      "rowLimit": 10000
     },
     "inputWidgets": {},
     "nuid": "3454c21d-d0d9-47fa-8862-18d44577166e",
     "showTitle": false,
     "title": ""
    }
   },
   "outputs": [],
   "source": [
    "order_df = spark.read.csv(\"abfss://input@abhisaitestsa.dfs.core.windows.net/customers_orders_data/orders.csv\",header=True,inferSchema=True)"
   ]
  },
  {
   "cell_type": "code",
   "execution_count": 0,
   "metadata": {
    "application/vnd.databricks.v1+cell": {
     "cellMetadata": {
      "byteLimit": 2048000,
      "rowLimit": 10000
     },
     "inputWidgets": {},
     "nuid": "7036f946-6d8b-4fd1-92dd-435be437b8b6",
     "showTitle": false,
     "title": ""
    }
   },
   "outputs": [],
   "source": [
    "order_df.write.mode(\"overwrite\").format(\"csv\").save(\"abfss://output@abhisaitestsa.dfs.core.windows.net/\")\n",
    "order_df.write.mode(\"overwrite\").format(\"parquet\").save(\"abfss://parquetoutput@abhisaitestsa.dfs.core.windows.net/\")\n",
    "order_df.write.mode(\"overwrite\").format(\"delta\").save(\"abfss://deltaoutput@abhisaitestsa.dfs.core.windows.net/\")"
   ]
  }
 ],
 "metadata": {
  "application/vnd.databricks.v1+notebook": {
   "dashboards": [],
   "language": "python",
   "notebookMetadata": {
    "mostRecentlyExecutedCommandWithImplicitDF": {
     "commandId": -1,
     "dataframes": [
      "_sqldf"
     ]
    },
    "pythonIndentUnit": 4
   },
   "notebookName": "Service_Principle_ADLS_Gen2_Read_Write",
   "widgets": {}
  }
 },
 "nbformat": 4,
 "nbformat_minor": 0
}
