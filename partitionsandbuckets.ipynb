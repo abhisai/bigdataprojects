{
 "cells": [
  {
   "cell_type": "code",
   "execution_count": 1,
   "id": "480a0d1d",
   "metadata": {},
   "outputs": [],
   "source": [
    "from pyspark.sql import SparkSession\n",
    "import getpass\n",
    "username = getpass.getuser()\n",
    "spark= SparkSession.\\\n",
    "    builder.\\\n",
    "    config('spark.ui.port','0').\\\n",
    "    config(\"spark.sql.warehouse.dir\",f\"/user/{username}/warehouse\").\\\n",
    "    enableHiveSupport().\\\n",
    "    master('yarn').\\\n",
    "    getOrCreate()"
   ]
  },
  {
   "cell_type": "code",
   "execution_count": 2,
   "id": "76e6c7d9",
   "metadata": {},
   "outputs": [
    {
     "data": {
      "text/html": [
       "\n",
       "            <div>\n",
       "                <p><b>SparkSession - hive</b></p>\n",
       "                \n",
       "        <div>\n",
       "            <p><b>SparkContext</b></p>\n",
       "\n",
       "            <p><a href=\"http://g01.itversity.com:41653\">Spark UI</a></p>\n",
       "\n",
       "            <dl>\n",
       "              <dt>Version</dt>\n",
       "                <dd><code>v3.1.2</code></dd>\n",
       "              <dt>Master</dt>\n",
       "                <dd><code>yarn</code></dd>\n",
       "              <dt>AppName</dt>\n",
       "                <dd><code>pyspark-shell</code></dd>\n",
       "            </dl>\n",
       "        </div>\n",
       "        \n",
       "            </div>\n",
       "        "
      ],
      "text/plain": [
       "<pyspark.sql.session.SparkSession at 0x7f3657d31470>"
      ]
     },
     "execution_count": 2,
     "metadata": {},
     "output_type": "execute_result"
    }
   ],
   "source": [
    "spark"
   ]
  },
  {
   "cell_type": "code",
   "execution_count": 3,
   "id": "4ae41b9a",
   "metadata": {},
   "outputs": [],
   "source": [
    "retail_df = spark.read \\\n",
    ".format(\"csv\") \\\n",
    ".option(\"header\",\"true\") \\\n",
    ".option(\"inferSchema\",\"true\") \\\n",
    ".load(\"retail\")"
   ]
  },
  {
   "cell_type": "code",
   "execution_count": 4,
   "id": "b87146fb",
   "metadata": {},
   "outputs": [
    {
     "name": "stdout",
     "output_type": "stream",
     "text": [
      "+---------+---------+--------------------+--------+--------------+---------+----------+--------------+\n",
      "|InvoiceNo|StockCode|         Description|Quantity|   InvoiceDate|UnitPrice|CustomerID|       Country|\n",
      "+---------+---------+--------------------+--------+--------------+---------+----------+--------------+\n",
      "|   536365|   85123A|WHITE HANGING HEA...|       6|12/1/2010 8:26|     2.55|     17850|United Kingdom|\n",
      "|   536365|    71053| WHITE METAL LANTERN|       6|12/1/2010 8:26|     3.39|     17850|United Kingdom|\n",
      "+---------+---------+--------------------+--------+--------------+---------+----------+--------------+\n",
      "only showing top 2 rows\n",
      "\n"
     ]
    }
   ],
   "source": [
    "retail_df.show(2)"
   ]
  },
  {
   "cell_type": "code",
   "execution_count": 23,
   "id": "cb0234da",
   "metadata": {},
   "outputs": [],
   "source": [
    "retail_df.write \\\n",
    ".mode(\"overwrite\") \\\n",
    ".option(\"path\",\"retailsimple\") \\\n",
    ".save()"
   ]
  },
  {
   "cell_type": "code",
   "execution_count": 24,
   "id": "637f9a76",
   "metadata": {},
   "outputs": [
    {
     "name": "stdout",
     "output_type": "stream",
     "text": [
      "Found 3 items\n",
      "-rw-r--r--   3 itv007180 supergroup          0 2023-08-21 15:23 retailsimple/_SUCCESS\n",
      "-rw-r--r--   3 itv007180 supergroup    1985251 2023-08-21 15:23 retailsimple/part-00000-d30d5175-e88b-4ca5-a739-4bf3ba7f49d1-c000.snappy.parquet\n",
      "-rw-r--r--   3 itv007180 supergroup    1566498 2023-08-21 15:23 retailsimple/part-00001-d30d5175-e88b-4ca5-a739-4bf3ba7f49d1-c000.snappy.parquet\n"
     ]
    }
   ],
   "source": [
    "!hadoop fs -ls retailsimple"
   ]
  },
  {
   "cell_type": "code",
   "execution_count": 25,
   "id": "8f994712",
   "metadata": {},
   "outputs": [],
   "source": [
    "retail_df.write \\\n",
    ".partitionBy(\"Country\") \\\n",
    ".mode(\"overwrite\") \\\n",
    ".option(\"path\",\"retailwithpartition\").save()"
   ]
  },
  {
   "cell_type": "code",
   "execution_count": 26,
   "id": "3f1be415",
   "metadata": {},
   "outputs": [
    {
     "name": "stdout",
     "output_type": "stream",
     "text": [
      "Found 39 items\n",
      "drwxr-xr-x   - itv007180 supergroup          0 2023-08-21 15:23 retailwithpartition/Country=Australia\n",
      "drwxr-xr-x   - itv007180 supergroup          0 2023-08-21 15:23 retailwithpartition/Country=Austria\n",
      "drwxr-xr-x   - itv007180 supergroup          0 2023-08-21 15:23 retailwithpartition/Country=Bahrain\n",
      "drwxr-xr-x   - itv007180 supergroup          0 2023-08-21 15:23 retailwithpartition/Country=Belgium\n",
      "drwxr-xr-x   - itv007180 supergroup          0 2023-08-21 15:23 retailwithpartition/Country=Brazil\n",
      "drwxr-xr-x   - itv007180 supergroup          0 2023-08-21 15:23 retailwithpartition/Country=Canada\n",
      "drwxr-xr-x   - itv007180 supergroup          0 2023-08-21 15:23 retailwithpartition/Country=Channel Islands\n",
      "drwxr-xr-x   - itv007180 supergroup          0 2023-08-21 15:23 retailwithpartition/Country=Cyprus\n",
      "drwxr-xr-x   - itv007180 supergroup          0 2023-08-21 15:23 retailwithpartition/Country=Czech Republic\n",
      "drwxr-xr-x   - itv007180 supergroup          0 2023-08-21 15:23 retailwithpartition/Country=Denmark\n",
      "drwxr-xr-x   - itv007180 supergroup          0 2023-08-21 15:23 retailwithpartition/Country=EIRE\n",
      "drwxr-xr-x   - itv007180 supergroup          0 2023-08-21 15:23 retailwithpartition/Country=European Community\n",
      "drwxr-xr-x   - itv007180 supergroup          0 2023-08-21 15:23 retailwithpartition/Country=Finland\n",
      "drwxr-xr-x   - itv007180 supergroup          0 2023-08-21 15:23 retailwithpartition/Country=France\n",
      "drwxr-xr-x   - itv007180 supergroup          0 2023-08-21 15:23 retailwithpartition/Country=Germany\n",
      "drwxr-xr-x   - itv007180 supergroup          0 2023-08-21 15:23 retailwithpartition/Country=Greece\n",
      "drwxr-xr-x   - itv007180 supergroup          0 2023-08-21 15:23 retailwithpartition/Country=Hong Kong\n",
      "drwxr-xr-x   - itv007180 supergroup          0 2023-08-21 15:23 retailwithpartition/Country=Iceland\n",
      "drwxr-xr-x   - itv007180 supergroup          0 2023-08-21 15:23 retailwithpartition/Country=Israel\n",
      "drwxr-xr-x   - itv007180 supergroup          0 2023-08-21 15:23 retailwithpartition/Country=Italy\n",
      "drwxr-xr-x   - itv007180 supergroup          0 2023-08-21 15:23 retailwithpartition/Country=Japan\n",
      "drwxr-xr-x   - itv007180 supergroup          0 2023-08-21 15:23 retailwithpartition/Country=Lebanon\n",
      "drwxr-xr-x   - itv007180 supergroup          0 2023-08-21 15:23 retailwithpartition/Country=Lithuania\n",
      "drwxr-xr-x   - itv007180 supergroup          0 2023-08-21 15:23 retailwithpartition/Country=Malta\n",
      "drwxr-xr-x   - itv007180 supergroup          0 2023-08-21 15:23 retailwithpartition/Country=Netherlands\n",
      "drwxr-xr-x   - itv007180 supergroup          0 2023-08-21 15:23 retailwithpartition/Country=Norway\n",
      "drwxr-xr-x   - itv007180 supergroup          0 2023-08-21 15:23 retailwithpartition/Country=Poland\n",
      "drwxr-xr-x   - itv007180 supergroup          0 2023-08-21 15:23 retailwithpartition/Country=Portugal\n",
      "drwxr-xr-x   - itv007180 supergroup          0 2023-08-21 15:23 retailwithpartition/Country=RSA\n",
      "drwxr-xr-x   - itv007180 supergroup          0 2023-08-21 15:23 retailwithpartition/Country=Saudi Arabia\n",
      "drwxr-xr-x   - itv007180 supergroup          0 2023-08-21 15:23 retailwithpartition/Country=Singapore\n",
      "drwxr-xr-x   - itv007180 supergroup          0 2023-08-21 15:23 retailwithpartition/Country=Spain\n",
      "drwxr-xr-x   - itv007180 supergroup          0 2023-08-21 15:23 retailwithpartition/Country=Sweden\n",
      "drwxr-xr-x   - itv007180 supergroup          0 2023-08-21 15:23 retailwithpartition/Country=Switzerland\n",
      "drwxr-xr-x   - itv007180 supergroup          0 2023-08-21 15:23 retailwithpartition/Country=USA\n",
      "drwxr-xr-x   - itv007180 supergroup          0 2023-08-21 15:23 retailwithpartition/Country=United Arab Emirates\n",
      "drwxr-xr-x   - itv007180 supergroup          0 2023-08-21 15:23 retailwithpartition/Country=United Kingdom\n",
      "drwxr-xr-x   - itv007180 supergroup          0 2023-08-21 15:23 retailwithpartition/Country=Unspecified\n",
      "-rw-r--r--   3 itv007180 supergroup          0 2023-08-21 15:23 retailwithpartition/_SUCCESS\n"
     ]
    }
   ],
   "source": [
    "!hadoop fs -ls retailwithpartition"
   ]
  },
  {
   "cell_type": "code",
   "execution_count": 12,
   "id": "a89ff334",
   "metadata": {},
   "outputs": [
    {
     "name": "stdout",
     "output_type": "stream",
     "text": [
      "Found 2 items\n",
      "-rw-r--r--   3 itv007180 supergroup      25283 2023-08-21 15:15 retailwithpartition/Country=Spain/part-00000-53190ccd-73c5-4462-bbfa-78647f7b836a.c000.snappy.parquet\n",
      "-rw-r--r--   3 itv007180 supergroup      23284 2023-08-21 15:15 retailwithpartition/Country=Spain/part-00001-53190ccd-73c5-4462-bbfa-78647f7b836a.c000.snappy.parquet\n"
     ]
    }
   ],
   "source": [
    "!hadoop fs -ls retailwithpartition/Country=Spain"
   ]
  },
  {
   "cell_type": "code",
   "execution_count": 19,
   "id": "2965da6e",
   "metadata": {},
   "outputs": [],
   "source": [
    "retail_df.write \\\n",
    ".format(\"csv\") \\\n",
    ".mode(\"overwrite\") \\\n",
    ".partitionBy(\"Country\") \\\n",
    ".option(\"path\",\"retailwithpartitioncsv\").save()"
   ]
  },
  {
   "cell_type": "code",
   "execution_count": 21,
   "id": "d3bc6950",
   "metadata": {},
   "outputs": [
    {
     "name": "stdout",
     "output_type": "stream",
     "text": [
      "Found 39 items\n",
      "drwxr-xr-x   - itv007180 supergroup          0 2023-08-21 15:20 retailwithpartitioncsv/Country=Australia\n",
      "drwxr-xr-x   - itv007180 supergroup          0 2023-08-21 15:20 retailwithpartitioncsv/Country=Austria\n",
      "drwxr-xr-x   - itv007180 supergroup          0 2023-08-21 15:20 retailwithpartitioncsv/Country=Bahrain\n",
      "drwxr-xr-x   - itv007180 supergroup          0 2023-08-21 15:20 retailwithpartitioncsv/Country=Belgium\n",
      "drwxr-xr-x   - itv007180 supergroup          0 2023-08-21 15:20 retailwithpartitioncsv/Country=Brazil\n",
      "drwxr-xr-x   - itv007180 supergroup          0 2023-08-21 15:20 retailwithpartitioncsv/Country=Canada\n",
      "drwxr-xr-x   - itv007180 supergroup          0 2023-08-21 15:20 retailwithpartitioncsv/Country=Channel Islands\n",
      "drwxr-xr-x   - itv007180 supergroup          0 2023-08-21 15:20 retailwithpartitioncsv/Country=Cyprus\n",
      "drwxr-xr-x   - itv007180 supergroup          0 2023-08-21 15:20 retailwithpartitioncsv/Country=Czech Republic\n",
      "drwxr-xr-x   - itv007180 supergroup          0 2023-08-21 15:20 retailwithpartitioncsv/Country=Denmark\n",
      "drwxr-xr-x   - itv007180 supergroup          0 2023-08-21 15:20 retailwithpartitioncsv/Country=EIRE\n",
      "drwxr-xr-x   - itv007180 supergroup          0 2023-08-21 15:20 retailwithpartitioncsv/Country=European Community\n",
      "drwxr-xr-x   - itv007180 supergroup          0 2023-08-21 15:20 retailwithpartitioncsv/Country=Finland\n",
      "drwxr-xr-x   - itv007180 supergroup          0 2023-08-21 15:20 retailwithpartitioncsv/Country=France\n",
      "drwxr-xr-x   - itv007180 supergroup          0 2023-08-21 15:20 retailwithpartitioncsv/Country=Germany\n",
      "drwxr-xr-x   - itv007180 supergroup          0 2023-08-21 15:20 retailwithpartitioncsv/Country=Greece\n",
      "drwxr-xr-x   - itv007180 supergroup          0 2023-08-21 15:20 retailwithpartitioncsv/Country=Hong Kong\n",
      "drwxr-xr-x   - itv007180 supergroup          0 2023-08-21 15:20 retailwithpartitioncsv/Country=Iceland\n",
      "drwxr-xr-x   - itv007180 supergroup          0 2023-08-21 15:20 retailwithpartitioncsv/Country=Israel\n",
      "drwxr-xr-x   - itv007180 supergroup          0 2023-08-21 15:20 retailwithpartitioncsv/Country=Italy\n",
      "drwxr-xr-x   - itv007180 supergroup          0 2023-08-21 15:20 retailwithpartitioncsv/Country=Japan\n",
      "drwxr-xr-x   - itv007180 supergroup          0 2023-08-21 15:20 retailwithpartitioncsv/Country=Lebanon\n",
      "drwxr-xr-x   - itv007180 supergroup          0 2023-08-21 15:20 retailwithpartitioncsv/Country=Lithuania\n",
      "drwxr-xr-x   - itv007180 supergroup          0 2023-08-21 15:20 retailwithpartitioncsv/Country=Malta\n",
      "drwxr-xr-x   - itv007180 supergroup          0 2023-08-21 15:20 retailwithpartitioncsv/Country=Netherlands\n",
      "drwxr-xr-x   - itv007180 supergroup          0 2023-08-21 15:20 retailwithpartitioncsv/Country=Norway\n",
      "drwxr-xr-x   - itv007180 supergroup          0 2023-08-21 15:20 retailwithpartitioncsv/Country=Poland\n",
      "drwxr-xr-x   - itv007180 supergroup          0 2023-08-21 15:20 retailwithpartitioncsv/Country=Portugal\n",
      "drwxr-xr-x   - itv007180 supergroup          0 2023-08-21 15:20 retailwithpartitioncsv/Country=RSA\n",
      "drwxr-xr-x   - itv007180 supergroup          0 2023-08-21 15:20 retailwithpartitioncsv/Country=Saudi Arabia\n",
      "drwxr-xr-x   - itv007180 supergroup          0 2023-08-21 15:20 retailwithpartitioncsv/Country=Singapore\n",
      "drwxr-xr-x   - itv007180 supergroup          0 2023-08-21 15:20 retailwithpartitioncsv/Country=Spain\n",
      "drwxr-xr-x   - itv007180 supergroup          0 2023-08-21 15:20 retailwithpartitioncsv/Country=Sweden\n",
      "drwxr-xr-x   - itv007180 supergroup          0 2023-08-21 15:20 retailwithpartitioncsv/Country=Switzerland\n",
      "drwxr-xr-x   - itv007180 supergroup          0 2023-08-21 15:20 retailwithpartitioncsv/Country=USA\n",
      "drwxr-xr-x   - itv007180 supergroup          0 2023-08-21 15:20 retailwithpartitioncsv/Country=United Arab Emirates\n",
      "drwxr-xr-x   - itv007180 supergroup          0 2023-08-21 15:20 retailwithpartitioncsv/Country=United Kingdom\n",
      "drwxr-xr-x   - itv007180 supergroup          0 2023-08-21 15:20 retailwithpartitioncsv/Country=Unspecified\n",
      "-rw-r--r--   3 itv007180 supergroup          0 2023-08-21 15:20 retailwithpartitioncsv/_SUCCESS\n"
     ]
    }
   ],
   "source": [
    "!hadoop fs -ls retailwithpartitioncsv"
   ]
  },
  {
   "cell_type": "code",
   "execution_count": 27,
   "id": "b6dc1683",
   "metadata": {},
   "outputs": [
    {
     "name": "stdout",
     "output_type": "stream",
     "text": [
      "Found 2 items\n",
      "-rw-r--r--   3 itv007180 supergroup      93977 2023-08-21 15:20 retailwithpartitioncsv/Country=Spain/part-00000-7e7cba55-6443-42f2-a3b5-596872cf8a53.c000.csv\n",
      "-rw-r--r--   3 itv007180 supergroup      82433 2023-08-21 15:20 retailwithpartitioncsv/Country=Spain/part-00001-7e7cba55-6443-42f2-a3b5-596872cf8a53.c000.csv\n"
     ]
    }
   ],
   "source": [
    "!hadoop fs -ls retailwithpartitioncsv/Country=Spain | head"
   ]
  },
  {
   "cell_type": "code",
   "execution_count": 38,
   "id": "7044bced",
   "metadata": {},
   "outputs": [],
   "source": [
    "retail_df.write \\\n",
    ".mode(\"overwrite\") \\\n",
    ".format(\"csv\") \\\n",
    ".bucketBy(5,\"CustomerID\") \\\n",
    ".option(\"path\",\"retailwithbucket\") \\\n",
    ".saveAsTable(\"abhi_db.retailwithbucket\")"
   ]
  },
  {
   "cell_type": "code",
   "execution_count": 39,
   "id": "fd2b30da",
   "metadata": {},
   "outputs": [
    {
     "name": "stdout",
     "output_type": "stream",
     "text": [
      "Found 11 items\n",
      "-rw-r--r--   3 itv007180 supergroup          0 2023-08-21 15:33 retailwithbucket/_SUCCESS\n",
      "-rw-r--r--   3 itv007180 supergroup    3806529 2023-08-21 15:33 retailwithbucket/part-00000-88e7a9e0-400a-407f-9152-a18c1dc7f780_00000.c000.csv\n",
      "-rw-r--r--   3 itv007180 supergroup    2959854 2023-08-21 15:33 retailwithbucket/part-00000-88e7a9e0-400a-407f-9152-a18c1dc7f780_00001.c000.csv\n",
      "-rw-r--r--   3 itv007180 supergroup   10352587 2023-08-21 15:33 retailwithbucket/part-00000-88e7a9e0-400a-407f-9152-a18c1dc7f780_00002.c000.csv\n",
      "-rw-r--r--   3 itv007180 supergroup    3879280 2023-08-21 15:33 retailwithbucket/part-00000-88e7a9e0-400a-407f-9152-a18c1dc7f780_00003.c000.csv\n",
      "-rw-r--r--   3 itv007180 supergroup    3714590 2023-08-21 15:33 retailwithbucket/part-00000-88e7a9e0-400a-407f-9152-a18c1dc7f780_00004.c000.csv\n",
      "-rw-r--r--   3 itv007180 supergroup    3913879 2023-08-21 15:33 retailwithbucket/part-00001-88e7a9e0-400a-407f-9152-a18c1dc7f780_00000.c000.csv\n",
      "-rw-r--r--   3 itv007180 supergroup    2879935 2023-08-21 15:33 retailwithbucket/part-00001-88e7a9e0-400a-407f-9152-a18c1dc7f780_00001.c000.csv\n",
      "-rw-r--r--   3 itv007180 supergroup    7373686 2023-08-21 15:33 retailwithbucket/part-00001-88e7a9e0-400a-407f-9152-a18c1dc7f780_00002.c000.csv\n",
      "-rw-r--r--   3 itv007180 supergroup    3062633 2023-08-21 15:33 retailwithbucket/part-00001-88e7a9e0-400a-407f-9152-a18c1dc7f780_00003.c000.csv\n",
      "-rw-r--r--   3 itv007180 supergroup    3270752 2023-08-21 15:33 retailwithbucket/part-00001-88e7a9e0-400a-407f-9152-a18c1dc7f780_00004.c000.csv\n"
     ]
    }
   ],
   "source": [
    "!hadoop fs -ls retailwithbucket"
   ]
  },
  {
   "cell_type": "code",
   "execution_count": 41,
   "id": "55ca3c27",
   "metadata": {},
   "outputs": [
    {
     "name": "stdout",
     "output_type": "stream",
     "text": [
      "536365,85123A,WHITE HANGING HEART T-LIGHT HOLDER,6,12/1/2010 8:26,2.55,17850,United Kingdom\n",
      "536365,71053,WHITE METAL LANTERN,6,12/1/2010 8:26,3.39,17850,United Kingdom\n",
      "536365,84406B,CREAM CUPID HEARTS COAT HANGER,8,12/1/2010 8:26,2.75,17850,United Kingdom\n",
      "536365,84029G,KNITTED UNION FLAG HOT WATER BOTTLE,6,12/1/2010 8:26,3.39,17850,United Kingdom\n",
      "536365,84029E,RED WOOLLY HOTTIE WHITE HEART.,6,12/1/2010 8:26,3.39,17850,United Kingdom\n",
      "536365,22752,SET 7 BABUSHKA NESTING BOXES,2,12/1/2010 8:26,7.65,17850,United Kingdom\n",
      "536365,21730,GLASS STAR FROSTED T-LIGHT HOLDER,6,12/1/2010 8:26,4.25,17850,United Kingdom\n",
      "536366,22633,HAND WARMER UNION JACK,6,12/1/2010 8:28,1.85,17850,United Kingdom\n",
      "536366,22632,HAND WARMER RED POLKA DOT,6,12/1/2010 8:28,1.85,17850,United Kingdom\n",
      "536367,84879,ASSORTED COLOUR BIRD ORNAMENT,32,12/1/2010 8:34,1.69,13047,United Kingdom\n",
      "cat: Unable to write to output stream.\n"
     ]
    }
   ],
   "source": [
    "!hadoop fs -cat retailwithbucket/part-00000-88e7a9e0-400a-407f-9152-a18c1dc7f780_00000.c000.csv | head"
   ]
  },
  {
   "cell_type": "code",
   "execution_count": 43,
   "id": "eef3b407",
   "metadata": {},
   "outputs": [],
   "source": [
    "retail_df.write \\\n",
    ".mode(\"overwrite\") \\\n",
    ".format(\"csv\") \\\n",
    ".bucketBy(5,\"CustomerID\") \\\n",
    ".sortBy(\"CustomerID\") \\\n",
    ".option(\"path\",\"retailwithbucket\") \\\n",
    ".saveAsTable(\"abhi_db.retailwithbucketsort\")"
   ]
  },
  {
   "cell_type": "code",
   "execution_count": 44,
   "id": "a1094013",
   "metadata": {},
   "outputs": [
    {
     "name": "stdout",
     "output_type": "stream",
     "text": [
      "Found 11 items\n",
      "-rw-r--r--   3 itv007180 supergroup          0 2023-08-21 15:34 retailwithbucket/_SUCCESS\n",
      "-rw-r--r--   3 itv007180 supergroup    3806529 2023-08-21 15:34 retailwithbucket/part-00000-32782cfb-d727-48b2-b11e-75e2f2e50fb4_00000.c000.csv\n",
      "-rw-r--r--   3 itv007180 supergroup    2959854 2023-08-21 15:34 retailwithbucket/part-00000-32782cfb-d727-48b2-b11e-75e2f2e50fb4_00001.c000.csv\n",
      "-rw-r--r--   3 itv007180 supergroup   10352587 2023-08-21 15:34 retailwithbucket/part-00000-32782cfb-d727-48b2-b11e-75e2f2e50fb4_00002.c000.csv\n",
      "-rw-r--r--   3 itv007180 supergroup    3879280 2023-08-21 15:34 retailwithbucket/part-00000-32782cfb-d727-48b2-b11e-75e2f2e50fb4_00003.c000.csv\n",
      "-rw-r--r--   3 itv007180 supergroup    3714590 2023-08-21 15:34 retailwithbucket/part-00000-32782cfb-d727-48b2-b11e-75e2f2e50fb4_00004.c000.csv\n",
      "-rw-r--r--   3 itv007180 supergroup    3913879 2023-08-21 15:34 retailwithbucket/part-00001-32782cfb-d727-48b2-b11e-75e2f2e50fb4_00000.c000.csv\n",
      "-rw-r--r--   3 itv007180 supergroup    2879935 2023-08-21 15:34 retailwithbucket/part-00001-32782cfb-d727-48b2-b11e-75e2f2e50fb4_00001.c000.csv\n",
      "-rw-r--r--   3 itv007180 supergroup    7373686 2023-08-21 15:34 retailwithbucket/part-00001-32782cfb-d727-48b2-b11e-75e2f2e50fb4_00002.c000.csv\n",
      "-rw-r--r--   3 itv007180 supergroup    3062633 2023-08-21 15:34 retailwithbucket/part-00001-32782cfb-d727-48b2-b11e-75e2f2e50fb4_00003.c000.csv\n",
      "-rw-r--r--   3 itv007180 supergroup    3270752 2023-08-21 15:34 retailwithbucket/part-00001-32782cfb-d727-48b2-b11e-75e2f2e50fb4_00004.c000.csv\n"
     ]
    }
   ],
   "source": [
    "!hadoop fs -ls retailwithbucket"
   ]
  },
  {
   "cell_type": "code",
   "execution_count": 46,
   "id": "09d272de",
   "metadata": {},
   "outputs": [
    {
     "name": "stdout",
     "output_type": "stream",
     "text": [
      "554132,21094,SET/6 RED SPOTTY PAPER PLATES,12,5/23/2011 9:43,0.85,12360,Austria\n",
      "554132,21086,SET/6 RED SPOTTY PAPER CUPS,12,5/23/2011 9:43,0.65,12360,Austria\n",
      "554132,21080,SET/20 RED RETROSPOT PAPER NAPKINS,12,5/23/2011 9:43,0.85,12360,Austria\n",
      "554132,21989,PACK OF 20 SKULL PAPER NAPKINS,12,5/23/2011 9:43,0.85,12360,Austria\n",
      "554132,23007,SPACEBOY BABY GIFT SET,6,5/23/2011 9:43,14.95,12360,Austria\n",
      "554132,23010,CIRCUS PARADE BABY GIFT SET,6,5/23/2011 9:43,14.95,12360,Austria\n",
      "554132,23008,DOLLY GIRL BABY GIFT SET,6,5/23/2011 9:43,14.95,12360,Austria\n",
      "554132,84674,FLYING PIG WATERING CAN,6,5/23/2011 9:43,2.95,12360,Austria\n",
      "554132,22433,WATERING CAN GREEN DINOSAUR,6,5/23/2011 9:43,1.95,12360,Austria\n",
      "554132,22431,WATERING CAN BLUE ELEPHANT,6,5/23/2011 9:43,1.95,12360,Austria\n",
      "cat: Unable to write to output stream.\n"
     ]
    }
   ],
   "source": [
    "!hadoop fs -cat retailwithbucket/part-00000-32782cfb-d727-48b2-b11e-75e2f2e50fb4_00000.c000.csv | head"
   ]
  },
  {
   "cell_type": "code",
   "execution_count": null,
   "id": "9ffff2b0",
   "metadata": {},
   "outputs": [],
   "source": []
  }
 ],
 "metadata": {
  "kernelspec": {
   "display_name": "Pyspark 3",
   "language": "python",
   "name": "pyspark3"
  },
  "language_info": {
   "codemirror_mode": {
    "name": "ipython",
    "version": 3
   },
   "file_extension": ".py",
   "mimetype": "text/x-python",
   "name": "python",
   "nbconvert_exporter": "python",
   "pygments_lexer": "ipython3",
   "version": "3.6.12"
  }
 },
 "nbformat": 4,
 "nbformat_minor": 5
}
