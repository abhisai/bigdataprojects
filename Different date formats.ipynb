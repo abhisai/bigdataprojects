{
 "cells": [
  {
   "cell_type": "code",
   "execution_count": null,
   "id": "bc5aa625",
   "metadata": {},
   "outputs": [],
   "source": [
    "from pyspark.sql import SparkSession\n",
    "import getpass\n",
    "username = getpass.getuser()\n",
    "spark= SparkSession.\\\n",
    "    builder.\\\n",
    "    config('spark.ui.port','0').\\\n",
    "    appName(\"Abhi New App\"). \\\n",
    "    config(\"spark.sql.warehouse.dir\",f\"/user/{username}/warehouse\").\\\n",
    "    enableHiveSupport().\\\n",
    "    master('yarn').\\\n",
    "    getOrCreate()"
   ]
  },
  {
   "cell_type": "code",
   "execution_count": null,
   "id": "065e2d97",
   "metadata": {},
   "outputs": [],
   "source": [
    "from pyspark.sql.functions import *"
   ]
  },
  {
   "cell_type": "raw",
   "id": "63efe7cf",
   "metadata": {},
   "source": [
    "####### Suppose our data is like below : Date fields in different formats \n",
    "\n",
    "1,hyderabad,2023-01-30,2023/01/30,01-30-2023,30-01-2023\n",
    "2,chennai,2023-02-28,2023/02/28,02-30-2023,02-28-2023"
   ]
  },
  {
   "cell_type": "code",
   "execution_count": null,
   "id": "7543200d",
   "metadata": {},
   "outputs": [],
   "source": [
    "datessample_df = spark.read.csv(\"/user/itv007180/sampledates\")"
   ]
  },
  {
   "cell_type": "code",
   "execution_count": null,
   "id": "42c9c167",
   "metadata": {},
   "outputs": [],
   "source": [
    "datessample_df.show()"
   ]
  },
  {
   "cell_type": "code",
   "execution_count": null,
   "id": "4fb28573",
   "metadata": {},
   "outputs": [],
   "source": [
    "datessample_df.printSchema()"
   ]
  },
  {
   "cell_type": "code",
   "execution_count": null,
   "id": "025e07c8",
   "metadata": {},
   "outputs": [],
   "source": [
    "datessample_df_new = datessample_df \\\n",
    ".withColumn(\"_c2\",to_date(\"_c2\",\"yyyy-MM-dd\")) \\\n",
    ".withColumn(\"_c3\",to_date(\"_c3\",\"yyyy/MM/dd\")) \\\n",
    ".withColumn(\"_c4\",to_date(\"_c4\",\"MM-dd-yyyy\")) \\\n",
    ".withColumn(\"_c5\",to_date(\"_c5\",\"dd-MM-yyyy\"))"
   ]
  },
  {
   "cell_type": "code",
   "execution_count": null,
   "id": "0a9b65e6",
   "metadata": {},
   "outputs": [],
   "source": [
    "datessample_df_new.show()"
   ]
  },
  {
   "cell_type": "code",
   "execution_count": null,
   "id": "9620f374",
   "metadata": {},
   "outputs": [],
   "source": [
    "datessample_df_new.printSchema()"
   ]
  },
  {
   "cell_type": "code",
   "execution_count": null,
   "id": "da3647f7",
   "metadata": {},
   "outputs": [],
   "source": [
    "spark.stop()"
   ]
  },
  {
   "cell_type": "code",
   "execution_count": null,
   "id": "612e1188",
   "metadata": {},
   "outputs": [],
   "source": []
  },
  {
   "cell_type": "code",
   "execution_count": null,
   "id": "5187f9ce",
   "metadata": {},
   "outputs": [],
   "source": []
  }
 ],
 "metadata": {
  "kernelspec": {
   "display_name": "Pyspark 3",
   "language": "python",
   "name": "pyspark3"
  },
  "language_info": {
   "codemirror_mode": {
    "name": "ipython",
    "version": 3
   },
   "file_extension": ".py",
   "mimetype": "text/x-python",
   "name": "python",
   "nbconvert_exporter": "python",
   "pygments_lexer": "ipython3",
   "version": "3.6.12"
  }
 },
 "nbformat": 4,
 "nbformat_minor": 5
}
