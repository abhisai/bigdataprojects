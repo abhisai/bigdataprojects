{
 "cells": [
  {
   "cell_type": "code",
   "execution_count": 1,
   "id": "823be7e0",
   "metadata": {},
   "outputs": [],
   "source": [
    "from pyspark.sql import SparkSession\n",
    "import getpass\n",
    "username = getpass.getuser()\n",
    "spark= SparkSession.\\\n",
    "    builder.\\\n",
    "    appName(\"Pyspark use-case-1\").\\\n",
    "    master('yarn').\\\n",
    "    getOrCreate()"
   ]
  },
  {
   "cell_type": "code",
   "execution_count": 2,
   "id": "ffc22047",
   "metadata": {},
   "outputs": [],
   "source": [
    "from pyspark.sql.functions import * "
   ]
  },
  {
   "cell_type": "code",
   "execution_count": 3,
   "id": "97a7f780",
   "metadata": {},
   "outputs": [],
   "source": [
    "transactions_df = spark.read \\\n",
    ".format(\"csv\") \\\n",
    ".option(\"InferSchema\",\"True\") \\\n",
    ".option(\"Header\",\"False\") \\\n",
    ".load(\"/user/itv007180/trans4\")"
   ]
  },
  {
   "cell_type": "code",
   "execution_count": 4,
   "id": "9b27c82f",
   "metadata": {},
   "outputs": [
    {
     "name": "stdout",
     "output_type": "stream",
     "text": [
      "+----------+----------+-----+-------------+\n",
      "|       _c0|       _c1|  _c2|     exp_type|\n",
      "+----------+----------+-----+-------------+\n",
      "|CI6XLYUMQK|2019-03-16| 5.72|Entertainment|\n",
      "|CI6XLYUMQK|2015-05-15|11.06|Entertainment|\n",
      "|CI6XLYUMQK|2015-08-20|15.97|Entertainment|\n",
      "|CI6XLYUMQK|2016-07-16|17.46|Entertainment|\n",
      "|CI6XLYUMQK|2020-12-02| 8.24|Entertainment|\n",
      "+----------+----------+-----+-------------+\n",
      "only showing top 5 rows\n",
      "\n"
     ]
    }
   ],
   "source": [
    "transactions_df.show(5)"
   ]
  },
  {
   "cell_type": "code",
   "execution_count": 5,
   "id": "324b8ccb",
   "metadata": {},
   "outputs": [],
   "source": [
    "trans_df = transactions_df.withColumnRenamed(\"_c0\",\"cus_id\").withColumnRenamed(\"_c1\",\"trans_date\").withColumnRenamed(\"_c2\",\"amount\")"
   ]
  },
  {
   "cell_type": "code",
   "execution_count": 6,
   "id": "9b23d05a",
   "metadata": {},
   "outputs": [],
   "source": [
    "## filter and orderby in pyspark"
   ]
  },
  {
   "cell_type": "code",
   "execution_count": 7,
   "id": "ab33a299",
   "metadata": {},
   "outputs": [
    {
     "name": "stdout",
     "output_type": "stream",
     "text": [
      "+----------+----------+------+--------+\n",
      "|    cus_id|trans_date|amount|exp_type|\n",
      "+----------+----------+------+--------+\n",
      "|CNV42WMZMZ|2014-07-08| 21.25|   Fines|\n",
      "|CCO1G75OUP|2019-07-11| 22.51|   Fines|\n",
      "|CMP4FCQ42S|2018-04-26| 23.66|   Fines|\n",
      "|CCO1G75OUP|2020-05-08|  24.3|   Fines|\n",
      "|CCO1G75OUP|2019-07-03| 24.52|   Fines|\n",
      "+----------+----------+------+--------+\n",
      "only showing top 5 rows\n",
      "\n"
     ]
    }
   ],
   "source": [
    "trans_df.filter(\"exp_type = 'Fines'\").orderBy(\"amount\",ascending=True).show(5)"
   ]
  },
  {
   "cell_type": "code",
   "execution_count": 8,
   "id": "26c0360e",
   "metadata": {},
   "outputs": [],
   "source": [
    "## As we use the trans_df dataframe through out , we are doing cache to run our process faster"
   ]
  },
  {
   "cell_type": "code",
   "execution_count": 9,
   "id": "676f219a",
   "metadata": {},
   "outputs": [
    {
     "data": {
      "text/html": [
       "<table border='1'>\n",
       "<tr><th>cus_id</th><th>trans_date</th><th>amount</th><th>exp_type</th></tr>\n",
       "<tr><td>CI6XLYUMQK</td><td>2019-03-16</td><td>5.72</td><td>Entertainment</td></tr>\n",
       "<tr><td>CI6XLYUMQK</td><td>2015-05-15</td><td>11.06</td><td>Entertainment</td></tr>\n",
       "<tr><td>CI6XLYUMQK</td><td>2015-08-20</td><td>15.97</td><td>Entertainment</td></tr>\n",
       "<tr><td>CI6XLYUMQK</td><td>2016-07-16</td><td>17.46</td><td>Entertainment</td></tr>\n",
       "<tr><td>CI6XLYUMQK</td><td>2020-12-02</td><td>8.24</td><td>Entertainment</td></tr>\n",
       "<tr><td>CI6XLYUMQK</td><td>2018-03-27</td><td>9.58</td><td>Entertainment</td></tr>\n",
       "<tr><td>CI6XLYUMQK</td><td>2020-03-19</td><td>10.43</td><td>Entertainment</td></tr>\n",
       "<tr><td>CI6XLYUMQK</td><td>2019-07-21</td><td>29.25</td><td>Entertainment</td></tr>\n",
       "<tr><td>CI6XLYUMQK</td><td>2018-11-22</td><td>12.55</td><td>Entertainment</td></tr>\n",
       "<tr><td>CI6XLYUMQK</td><td>2019-12-07</td><td>10.82</td><td>Entertainment</td></tr>\n",
       "<tr><td>CI6XLYUMQK</td><td>2020-06-06</td><td>13.21</td><td>Entertainment</td></tr>\n",
       "<tr><td>CI6XLYUMQK</td><td>2019-03-11</td><td>6.26</td><td>Entertainment</td></tr>\n",
       "<tr><td>CI6XLYUMQK</td><td>2016-03-24</td><td>15.81</td><td>Entertainment</td></tr>\n",
       "<tr><td>CI6XLYUMQK</td><td>2020-07-13</td><td>8.42</td><td>Entertainment</td></tr>\n",
       "<tr><td>CI6XLYUMQK</td><td>2019-06-13</td><td>10.47</td><td>Entertainment</td></tr>\n",
       "<tr><td>CI6XLYUMQK</td><td>2015-07-03</td><td>9.91</td><td>Entertainment</td></tr>\n",
       "<tr><td>CI6XLYUMQK</td><td>2018-07-19</td><td>10.87</td><td>Entertainment</td></tr>\n",
       "<tr><td>CI6XLYUMQK</td><td>2019-10-23</td><td>13.17</td><td>Entertainment</td></tr>\n",
       "<tr><td>CI6XLYUMQK</td><td>2019-08-10</td><td>9.37</td><td>Entertainment</td></tr>\n",
       "<tr><td>CI6XLYUMQK</td><td>2019-09-03</td><td>7.24</td><td>Entertainment</td></tr>\n",
       "</table>\n",
       "only showing top 20 rows\n"
      ],
      "text/plain": [
       "+----------+----------+------+-------------+\n",
       "|    cus_id|trans_date|amount|     exp_type|\n",
       "+----------+----------+------+-------------+\n",
       "|CI6XLYUMQK|2019-03-16|  5.72|Entertainment|\n",
       "|CI6XLYUMQK|2015-05-15| 11.06|Entertainment|\n",
       "|CI6XLYUMQK|2015-08-20| 15.97|Entertainment|\n",
       "|CI6XLYUMQK|2016-07-16| 17.46|Entertainment|\n",
       "|CI6XLYUMQK|2020-12-02|  8.24|Entertainment|\n",
       "|CI6XLYUMQK|2018-03-27|  9.58|Entertainment|\n",
       "|CI6XLYUMQK|2020-03-19| 10.43|Entertainment|\n",
       "|CI6XLYUMQK|2019-07-21| 29.25|Entertainment|\n",
       "|CI6XLYUMQK|2018-11-22| 12.55|Entertainment|\n",
       "|CI6XLYUMQK|2019-12-07| 10.82|Entertainment|\n",
       "|CI6XLYUMQK|2020-06-06| 13.21|Entertainment|\n",
       "|CI6XLYUMQK|2019-03-11|  6.26|Entertainment|\n",
       "|CI6XLYUMQK|2016-03-24| 15.81|Entertainment|\n",
       "|CI6XLYUMQK|2020-07-13|  8.42|Entertainment|\n",
       "|CI6XLYUMQK|2019-06-13| 10.47|Entertainment|\n",
       "|CI6XLYUMQK|2015-07-03|  9.91|Entertainment|\n",
       "|CI6XLYUMQK|2018-07-19| 10.87|Entertainment|\n",
       "|CI6XLYUMQK|2019-10-23| 13.17|Entertainment|\n",
       "|CI6XLYUMQK|2019-08-10|  9.37|Entertainment|\n",
       "|CI6XLYUMQK|2019-09-03|  7.24|Entertainment|\n",
       "+----------+----------+------+-------------+\n",
       "only showing top 20 rows"
      ]
     },
     "execution_count": 9,
     "metadata": {},
     "output_type": "execute_result"
    }
   ],
   "source": [
    "trans_df.cache()"
   ]
  },
  {
   "cell_type": "code",
   "execution_count": 10,
   "id": "bae20448",
   "metadata": {},
   "outputs": [],
   "source": [
    "from pyspark.sql import * \n",
    "from pyspark.sql.functions import * "
   ]
  },
  {
   "cell_type": "code",
   "execution_count": 11,
   "id": "42409240",
   "metadata": {},
   "outputs": [],
   "source": [
    "## To get TOP 5 Spenders in each category"
   ]
  },
  {
   "cell_type": "code",
   "execution_count": 12,
   "id": "9f7c4dba",
   "metadata": {},
   "outputs": [],
   "source": [
    "window_amount_desc = Window.partitionBy(\"exp_type\").orderBy(desc(\"amount\"))"
   ]
  },
  {
   "cell_type": "code",
   "execution_count": 13,
   "id": "54d93ebe",
   "metadata": {},
   "outputs": [],
   "source": [
    "new_df = trans_df.withColumn(\"Rank\",dense_rank().over(window_amount_desc))"
   ]
  },
  {
   "cell_type": "code",
   "execution_count": 14,
   "id": "f77886e9",
   "metadata": {},
   "outputs": [],
   "source": [
    "top_5_in_all_catgories = new_df.filter(\"exp_type != 'Tax'\").filter(\"Rank < 6\")"
   ]
  },
  {
   "cell_type": "code",
   "execution_count": 15,
   "id": "f07ea3ff",
   "metadata": {},
   "outputs": [],
   "source": [
    "top_5_in_all_catgories.write.format(\"csv\").mode(\"overwrite\").option(\"path\",\"/user/itv007180/top_5_all_cat\").save()"
   ]
  },
  {
   "cell_type": "code",
   "execution_count": 16,
   "id": "f60dacb7",
   "metadata": {},
   "outputs": [
    {
     "name": "stdout",
     "output_type": "stream",
     "text": [
      "+----------+----------+------+--------+----+\n",
      "|    cus_id|trans_date|amount|exp_type|Rank|\n",
      "+----------+----------+------+--------+----+\n",
      "|C1GEQYVLHW|2019-04-08|447.29|   Fines|   1|\n",
      "|CS9WEZK0XZ|2018-01-11|444.17|   Fines|   2|\n",
      "|C1GEQYVLHW|2019-06-14|438.99|   Fines|   3|\n",
      "|CS9WEZK0XZ|2014-07-19|422.11|   Fines|   4|\n",
      "|C094B01B0F|2019-03-20|410.12|   Fines|   5|\n",
      "+----------+----------+------+--------+----+\n",
      "only showing top 5 rows\n",
      "\n"
     ]
    }
   ],
   "source": [
    "top_5_in_all_catgories.show(5)"
   ]
  },
  {
   "cell_type": "code",
   "execution_count": 17,
   "id": "1ffe7386",
   "metadata": {},
   "outputs": [],
   "source": [
    "## To get LEAST 5 Spenders in each category"
   ]
  },
  {
   "cell_type": "code",
   "execution_count": 18,
   "id": "e7ed8ab5",
   "metadata": {},
   "outputs": [],
   "source": [
    "window_amount_asc = Window.partitionBy(\"exp_type\").orderBy(asc(\"amount\"))"
   ]
  },
  {
   "cell_type": "code",
   "execution_count": 19,
   "id": "d76d9b83",
   "metadata": {},
   "outputs": [],
   "source": [
    "new_df1 = trans_df.withColumn(\"Rank\",dense_rank().over(window_amount_asc))"
   ]
  },
  {
   "cell_type": "code",
   "execution_count": 20,
   "id": "c813627d",
   "metadata": {},
   "outputs": [],
   "source": [
    "last_5_in_all_catgories = new_df1.filter(\"exp_type != 'Tax'\").filter(\"Rank < 6\")"
   ]
  },
  {
   "cell_type": "code",
   "execution_count": 21,
   "id": "1bbbb0b2",
   "metadata": {},
   "outputs": [],
   "source": [
    "last_5_in_all_catgories.write.format(\"csv\").mode(\"overwrite\").option(\"path\",\"/user/itv007180/last_5_all_cat\").save()"
   ]
  },
  {
   "cell_type": "code",
   "execution_count": 22,
   "id": "c6fdc2f4",
   "metadata": {},
   "outputs": [
    {
     "name": "stdout",
     "output_type": "stream",
     "text": [
      "+----------+----------+------+--------+----+\n",
      "|    cus_id|trans_date|amount|exp_type|Rank|\n",
      "+----------+----------+------+--------+----+\n",
      "|CNV42WMZMZ|2014-07-08| 21.25|   Fines|   1|\n",
      "|CCO1G75OUP|2019-07-11| 22.51|   Fines|   2|\n",
      "|CMP4FCQ42S|2018-04-26| 23.66|   Fines|   3|\n",
      "|CCO1G75OUP|2020-05-08|  24.3|   Fines|   4|\n",
      "|CCO1G75OUP|2019-07-03| 24.52|   Fines|   5|\n",
      "+----------+----------+------+--------+----+\n",
      "only showing top 5 rows\n",
      "\n"
     ]
    }
   ],
   "source": [
    "last_5_in_all_catgories.show(5)"
   ]
  },
  {
   "cell_type": "code",
   "execution_count": 23,
   "id": "18a473b4",
   "metadata": {},
   "outputs": [],
   "source": [
    "## To get TOP 5 Spenders ACROSS CATEGORIES"
   ]
  },
  {
   "cell_type": "code",
   "execution_count": 24,
   "id": "384f99d4",
   "metadata": {},
   "outputs": [],
   "source": [
    "from pyspark.sql import * \n",
    "from pyspark.sql.functions import * "
   ]
  },
  {
   "cell_type": "code",
   "execution_count": 25,
   "id": "0dcbc713",
   "metadata": {},
   "outputs": [],
   "source": [
    "## Spark SQL style\n",
    "##trans_df.createOrReplaceTempView(\"trans7180\")\n",
    "##spark.sql(\"select * from trans7180 limit 3 \")"
   ]
  },
  {
   "cell_type": "code",
   "execution_count": 26,
   "id": "c74581dd",
   "metadata": {},
   "outputs": [],
   "source": [
    "##spark.sql(\"select cus_id,sum(amount) as sum  from trans7180 group by cus_id order by sum  limit 5 \")"
   ]
  },
  {
   "cell_type": "code",
   "execution_count": 27,
   "id": "7fc3c18a",
   "metadata": {},
   "outputs": [],
   "source": [
    "top_5_all_catgories =trans_df.groupBy(\"cus_id\").sum(\"amount\").orderBy(\"sum(amount)\",ascending=False).limit(5)"
   ]
  },
  {
   "cell_type": "code",
   "execution_count": 28,
   "id": "6be846f5",
   "metadata": {},
   "outputs": [],
   "source": [
    "top_5_all_catgories.write.format(\"csv\").mode(\"overwrite\").option(\"path\",\"/user/itv007180/top_5_all_catgories\").save()"
   ]
  },
  {
   "cell_type": "code",
   "execution_count": 29,
   "id": "85417b89",
   "metadata": {},
   "outputs": [
    {
     "name": "stdout",
     "output_type": "stream",
     "text": [
      "+----------+-----------------+\n",
      "|    cus_id|      sum(amount)|\n",
      "+----------+-----------------+\n",
      "|CZ5EYYQBK6|935036.2300000003|\n",
      "|C1CCNU63BB|927497.9500000004|\n",
      "|C0S8NLA7VV|927225.1400000007|\n",
      "|CRQWFVDKNP|914698.4699999992|\n",
      "|C42TSJYEHN|903543.2900000003|\n",
      "+----------+-----------------+\n",
      "\n"
     ]
    }
   ],
   "source": [
    "top_5_all_catgories.show(20)"
   ]
  },
  {
   "cell_type": "code",
   "execution_count": 30,
   "id": "284be904",
   "metadata": {},
   "outputs": [],
   "source": [
    "last_5_all_catgories = trans_df.groupBy(\"cus_id\").sum(\"amount\").orderBy(\"sum(amount)\",ascending=True).limit(5)"
   ]
  },
  {
   "cell_type": "code",
   "execution_count": 31,
   "id": "fb229296",
   "metadata": {},
   "outputs": [],
   "source": [
    "last_5_all_catgories.write.mode(\"overwrite\").format(\"csv\").option(\"path\",\"/user/itv007180/last_5_all_catgories\").save()"
   ]
  },
  {
   "cell_type": "code",
   "execution_count": 32,
   "id": "c56408a6",
   "metadata": {},
   "outputs": [
    {
     "name": "stdout",
     "output_type": "stream",
     "text": [
      "+----------+------------------+\n",
      "|    cus_id|       sum(amount)|\n",
      "+----------+------------------+\n",
      "|CBNBB92Q6A|20994.749999999996|\n",
      "|CE7FXMQ88J|          30695.86|\n",
      "|CUNXTMRUIS|30771.489999999987|\n",
      "|CEDUGQN98O|          33483.53|\n",
      "|CB0D9H1LSO|          35313.33|\n",
      "+----------+------------------+\n",
      "\n"
     ]
    }
   ],
   "source": [
    "last_5_all_catgories.show(20)"
   ]
  },
  {
   "cell_type": "code",
   "execution_count": 33,
   "id": "6a9d4e78",
   "metadata": {},
   "outputs": [],
   "source": [
    "current_date = spark.sql(\"select current_date\")"
   ]
  },
  {
   "cell_type": "code",
   "execution_count": 34,
   "id": "edd8090d",
   "metadata": {},
   "outputs": [],
   "source": [
    "last_month_trans_df = trans_df.filter(\"trans_date >= '2020-12-01'\").filter(\"trans_date <= '2020-12-31'\")"
   ]
  },
  {
   "cell_type": "code",
   "execution_count": 35,
   "id": "d262aa6d",
   "metadata": {},
   "outputs": [
    {
     "data": {
      "text/html": [
       "<table border='1'>\n",
       "<tr><th>cus_id</th><th>trans_date</th><th>amount</th><th>exp_type</th></tr>\n",
       "<tr><td>CI6XLYUMQK</td><td>2020-12-02</td><td>8.24</td><td>Entertainment</td></tr>\n",
       "<tr><td>CI6XLYUMQK</td><td>2020-12-11</td><td>9.32</td><td>Entertainment</td></tr>\n",
       "<tr><td>CI6XLYUMQK</td><td>2020-12-23</td><td>8.61</td><td>Entertainment</td></tr>\n",
       "<tr><td>CI6XLYUMQK</td><td>2020-12-04</td><td>7.68</td><td>Entertainment</td></tr>\n",
       "<tr><td>CI6XLYUMQK</td><td>2020-12-24</td><td>12.53</td><td>Entertainment</td></tr>\n",
       "<tr><td>CI6XLYUMQK</td><td>2020-12-24</td><td>7.09</td><td>Entertainment</td></tr>\n",
       "<tr><td>CI6XLYUMQK</td><td>2020-12-06</td><td>12.1</td><td>Entertainment</td></tr>\n",
       "<tr><td>CI6XLYUMQK</td><td>2020-12-03</td><td>12.63</td><td>Entertainment</td></tr>\n",
       "<tr><td>CI6XLYUMQK</td><td>2020-12-14</td><td>8.81</td><td>Entertainment</td></tr>\n",
       "<tr><td>CI6XLYUMQK</td><td>2020-12-03</td><td>8.92</td><td>Entertainment</td></tr>\n",
       "<tr><td>CI6XLYUMQK</td><td>2020-12-04</td><td>10.17</td><td>Entertainment</td></tr>\n",
       "<tr><td>CI6XLYUMQK</td><td>2020-12-22</td><td>8.51</td><td>Entertainment</td></tr>\n",
       "<tr><td>CI6XLYUMQK</td><td>2020-12-07</td><td>10.58</td><td>Entertainment</td></tr>\n",
       "<tr><td>CI6XLYUMQK</td><td>2020-12-21</td><td>9.51</td><td>Entertainment</td></tr>\n",
       "<tr><td>CI6XLYUMQK</td><td>2020-12-04</td><td>12.34</td><td>Entertainment</td></tr>\n",
       "<tr><td>CI6XLYUMQK</td><td>2020-12-11</td><td>11.13</td><td>Entertainment</td></tr>\n",
       "<tr><td>CI6XLYUMQK</td><td>2020-12-03</td><td>11.23</td><td>Entertainment</td></tr>\n",
       "<tr><td>CI6XLYUMQK</td><td>2020-12-26</td><td>9.65</td><td>Entertainment</td></tr>\n",
       "<tr><td>CI6XLYUMQK</td><td>2020-12-01</td><td>11.59</td><td>Entertainment</td></tr>\n",
       "<tr><td>CI6XLYUMQK</td><td>2020-12-19</td><td>12.34</td><td>Entertainment</td></tr>\n",
       "</table>\n",
       "only showing top 20 rows\n"
      ],
      "text/plain": [
       "+----------+----------+------+-------------+\n",
       "|    cus_id|trans_date|amount|     exp_type|\n",
       "+----------+----------+------+-------------+\n",
       "|CI6XLYUMQK|2020-12-02|  8.24|Entertainment|\n",
       "|CI6XLYUMQK|2020-12-11|  9.32|Entertainment|\n",
       "|CI6XLYUMQK|2020-12-23|  8.61|Entertainment|\n",
       "|CI6XLYUMQK|2020-12-04|  7.68|Entertainment|\n",
       "|CI6XLYUMQK|2020-12-24| 12.53|Entertainment|\n",
       "|CI6XLYUMQK|2020-12-24|  7.09|Entertainment|\n",
       "|CI6XLYUMQK|2020-12-06|  12.1|Entertainment|\n",
       "|CI6XLYUMQK|2020-12-03| 12.63|Entertainment|\n",
       "|CI6XLYUMQK|2020-12-14|  8.81|Entertainment|\n",
       "|CI6XLYUMQK|2020-12-03|  8.92|Entertainment|\n",
       "|CI6XLYUMQK|2020-12-04| 10.17|Entertainment|\n",
       "|CI6XLYUMQK|2020-12-22|  8.51|Entertainment|\n",
       "|CI6XLYUMQK|2020-12-07| 10.58|Entertainment|\n",
       "|CI6XLYUMQK|2020-12-21|  9.51|Entertainment|\n",
       "|CI6XLYUMQK|2020-12-04| 12.34|Entertainment|\n",
       "|CI6XLYUMQK|2020-12-11| 11.13|Entertainment|\n",
       "|CI6XLYUMQK|2020-12-03| 11.23|Entertainment|\n",
       "|CI6XLYUMQK|2020-12-26|  9.65|Entertainment|\n",
       "|CI6XLYUMQK|2020-12-01| 11.59|Entertainment|\n",
       "|CI6XLYUMQK|2020-12-19| 12.34|Entertainment|\n",
       "+----------+----------+------+-------------+\n",
       "only showing top 20 rows"
      ]
     },
     "execution_count": 35,
     "metadata": {},
     "output_type": "execute_result"
    }
   ],
   "source": [
    "last_month_trans_df.cache()"
   ]
  },
  {
   "cell_type": "code",
   "execution_count": 36,
   "id": "1d88be1e",
   "metadata": {},
   "outputs": [
    {
     "name": "stdout",
     "output_type": "stream",
     "text": [
      "+----------+----------+------+-------------+\n",
      "|    cus_id|trans_date|amount|     exp_type|\n",
      "+----------+----------+------+-------------+\n",
      "|CI6XLYUMQK|2020-12-02|  8.24|Entertainment|\n",
      "|CI6XLYUMQK|2020-12-11|  9.32|Entertainment|\n",
      "+----------+----------+------+-------------+\n",
      "only showing top 2 rows\n",
      "\n"
     ]
    }
   ],
   "source": [
    "last_month_trans_df.show(2)"
   ]
  },
  {
   "cell_type": "code",
   "execution_count": 37,
   "id": "dfaf35ae",
   "metadata": {},
   "outputs": [],
   "source": [
    "last_month_top5 = last_month_trans_df.groupBy(\"cus_id\").sum(\"amount\").orderBy(\"sum(amount)\",ascending=False).limit(5)"
   ]
  },
  {
   "cell_type": "code",
   "execution_count": 38,
   "id": "d1a0a52f",
   "metadata": {},
   "outputs": [],
   "source": [
    "last_month_top5.write.format(\"csv\").mode(\"overwrite\").option(\"path\",\"/user/itv007180/last_month_top5\").save()"
   ]
  },
  {
   "cell_type": "code",
   "execution_count": 39,
   "id": "706e9c1d",
   "metadata": {},
   "outputs": [
    {
     "name": "stdout",
     "output_type": "stream",
     "text": [
      "+----------+------------------+\n",
      "|    cus_id|       sum(amount)|\n",
      "+----------+------------------+\n",
      "|CX6ND8J2D3|18792.100000000002|\n",
      "|CYEP9ZLAGW|18594.760000000002|\n",
      "|C07NQ72YC9|          17976.95|\n",
      "|C0U0KM6B0A|17868.899999999998|\n",
      "|CB41XA8SQ7|          17479.93|\n",
      "+----------+------------------+\n",
      "\n"
     ]
    }
   ],
   "source": [
    "last_month_top5.show(5)"
   ]
  },
  {
   "cell_type": "code",
   "execution_count": 40,
   "id": "e70a79e2",
   "metadata": {},
   "outputs": [],
   "source": [
    "## Last month last 5 customers"
   ]
  },
  {
   "cell_type": "code",
   "execution_count": 41,
   "id": "3387ab09",
   "metadata": {},
   "outputs": [],
   "source": [
    "last_month_last5 = last_month_trans_df.groupBy(\"cus_id\").sum(\"amount\").orderBy(\"sum(amount)\",ascending=True).limit(5)"
   ]
  },
  {
   "cell_type": "code",
   "execution_count": 42,
   "id": "22c836c1",
   "metadata": {},
   "outputs": [],
   "source": [
    "last_month_last5.write.mode(\"overwrite\").format(\"csv\").option(\"path\",\"/user/itv007180/last_month_last5\").save()"
   ]
  },
  {
   "cell_type": "code",
   "execution_count": 43,
   "id": "4faf202c",
   "metadata": {},
   "outputs": [
    {
     "name": "stdout",
     "output_type": "stream",
     "text": [
      "+----------+------------------+\n",
      "|    cus_id|       sum(amount)|\n",
      "+----------+------------------+\n",
      "|CNV42WMZMZ|1160.6600000000003|\n",
      "|CBYTIV8QZO|            1169.7|\n",
      "|CTS8BEXUAZ|1301.5999999999997|\n",
      "|C24QN6BC73|1420.5300000000002|\n",
      "|C9FRDEZIZQ|1490.1499999999996|\n",
      "+----------+------------------+\n",
      "\n"
     ]
    }
   ],
   "source": [
    "last_month_last5.show(5)"
   ]
  },
  {
   "cell_type": "code",
   "execution_count": 44,
   "id": "5de58919",
   "metadata": {},
   "outputs": [],
   "source": [
    "last_one_yr_trans_df = trans_df.filter(\"trans_date >= '2020-01-01'\").filter(\"trans_date <= '2020-12-31'\")"
   ]
  },
  {
   "cell_type": "code",
   "execution_count": 45,
   "id": "81669b3c",
   "metadata": {},
   "outputs": [],
   "source": [
    "fee_reversal_cus_list = last_one_yr_trans_df.groupBy(\"cus_id\").sum(\"amount\").filter(\"sum(amount) > 50000\")"
   ]
  },
  {
   "cell_type": "code",
   "execution_count": 46,
   "id": "74fe45f8",
   "metadata": {},
   "outputs": [
    {
     "name": "stdout",
     "output_type": "stream",
     "text": [
      "+----------+------------------+\n",
      "|    cus_id|       sum(amount)|\n",
      "+----------+------------------+\n",
      "|C6RE4TBRF6|          86678.42|\n",
      "|C23VF1KQQA|112629.48000000001|\n",
      "+----------+------------------+\n",
      "only showing top 2 rows\n",
      "\n"
     ]
    }
   ],
   "source": [
    "fee_reversal_cus_list.show(2)"
   ]
  },
  {
   "cell_type": "code",
   "execution_count": 47,
   "id": "c390e943",
   "metadata": {},
   "outputs": [],
   "source": [
    "## Below are additional some points on alias, round function , Adaptive Query Execution"
   ]
  },
  {
   "cell_type": "code",
   "execution_count": 48,
   "id": "d203f18a",
   "metadata": {},
   "outputs": [],
   "source": [
    "## Usage of alias function"
   ]
  },
  {
   "cell_type": "code",
   "execution_count": 49,
   "id": "53c7ccf6",
   "metadata": {},
   "outputs": [],
   "source": [
    "new_test_df = fee_reversal_cus_list.select(\"cus_id\",col(\"sum(amount)\").alias(\"sum\"))"
   ]
  },
  {
   "cell_type": "code",
   "execution_count": 50,
   "id": "54ffba58",
   "metadata": {},
   "outputs": [],
   "source": [
    "## Usgae of round function"
   ]
  },
  {
   "cell_type": "code",
   "execution_count": 51,
   "id": "00e8ba00",
   "metadata": {},
   "outputs": [
    {
     "name": "stdout",
     "output_type": "stream",
     "text": [
      "+----------+-------------+\n",
      "|    cus_id|round(sum, 2)|\n",
      "+----------+-------------+\n",
      "|C23VF1KQQA|    112629.48|\n",
      "+----------+-------------+\n",
      "only showing top 1 row\n",
      "\n"
     ]
    }
   ],
   "source": [
    "new_test_df.select(\"cus_id\",round(\"sum\",2)).show(1)"
   ]
  },
  {
   "cell_type": "code",
   "execution_count": 52,
   "id": "8977d4ba",
   "metadata": {},
   "outputs": [],
   "source": [
    "## Lets check AQE status and enable it if necessary for better query ; Without AQE in general the above query will result in 200 partitions because of groupBy which is a WIDE TRANSFORMATION. This enabled by DEFAULT from SPARK 3.2 version"
   ]
  },
  {
   "cell_type": "code",
   "execution_count": 53,
   "id": "d58c88c4",
   "metadata": {},
   "outputs": [
    {
     "data": {
      "text/plain": [
       "'false'"
      ]
     },
     "execution_count": 53,
     "metadata": {},
     "output_type": "execute_result"
    }
   ],
   "source": [
    "spark.conf.get('spark.sql.adaptive.enabled')"
   ]
  },
  {
   "cell_type": "code",
   "execution_count": 54,
   "id": "ca2f6786",
   "metadata": {},
   "outputs": [],
   "source": [
    "## Set SPARK.SQL.ADAPTIVE.ENABLED parameter to TRUE to enable AQE in pyspark ; This to take force we need to ideally set this parameter before our groupBy statement"
   ]
  },
  {
   "cell_type": "code",
   "execution_count": 55,
   "id": "a58a2830",
   "metadata": {},
   "outputs": [],
   "source": [
    "spark.conf.set('spark.sql.adaptive.enabled',True)"
   ]
  },
  {
   "cell_type": "code",
   "execution_count": 56,
   "id": "2c4d6a91",
   "metadata": {},
   "outputs": [
    {
     "data": {
      "text/plain": [
       "'true'"
      ]
     },
     "execution_count": 56,
     "metadata": {},
     "output_type": "execute_result"
    }
   ],
   "source": [
    "spark.conf.get('spark.sql.adaptive.enabled')"
   ]
  },
  {
   "cell_type": "code",
   "execution_count": 57,
   "id": "3031c983",
   "metadata": {},
   "outputs": [],
   "source": [
    "fee_reversal_cus_list.write.format(\"csv\").mode(\"overwrite\").option(\"path\",\"/user/itv007180/fee_reversal_cus_list\").save()"
   ]
  },
  {
   "cell_type": "code",
   "execution_count": 58,
   "id": "6e6a0428",
   "metadata": {},
   "outputs": [
    {
     "name": "stdout",
     "output_type": "stream",
     "text": [
      "+----------+------------------+\n",
      "|    cus_id|       sum(amount)|\n",
      "+----------+------------------+\n",
      "|C6RE4TBRF6|          86678.42|\n",
      "|C23VF1KQQA|112629.48000000001|\n",
      "|C3NH8CDGWM| 66399.02000000002|\n",
      "|CO5MBA8HIG|61563.299999999996|\n",
      "|C23Z7NYX5G|          75646.28|\n",
      "+----------+------------------+\n",
      "only showing top 5 rows\n",
      "\n"
     ]
    }
   ],
   "source": [
    "fee_reversal_cus_list.show(5)"
   ]
  },
  {
   "cell_type": "code",
   "execution_count": null,
   "id": "ded818a5",
   "metadata": {},
   "outputs": [],
   "source": []
  },
  {
   "cell_type": "code",
   "execution_count": null,
   "id": "ace6ac2e",
   "metadata": {},
   "outputs": [],
   "source": []
  },
  {
   "cell_type": "code",
   "execution_count": null,
   "id": "f0c23196",
   "metadata": {},
   "outputs": [],
   "source": []
  },
  {
   "cell_type": "code",
   "execution_count": null,
   "id": "d0504b6c",
   "metadata": {},
   "outputs": [],
   "source": []
  },
  {
   "cell_type": "code",
   "execution_count": null,
   "id": "8aad6c1c",
   "metadata": {},
   "outputs": [],
   "source": []
  },
  {
   "cell_type": "code",
   "execution_count": null,
   "id": "438afa02",
   "metadata": {},
   "outputs": [],
   "source": []
  }
 ],
 "metadata": {
  "kernelspec": {
   "display_name": "Pyspark 3",
   "language": "python",
   "name": "pyspark3"
  },
  "language_info": {
   "codemirror_mode": {
    "name": "ipython",
    "version": 3
   },
   "file_extension": ".py",
   "mimetype": "text/x-python",
   "name": "python",
   "nbconvert_exporter": "python",
   "pygments_lexer": "ipython3",
   "version": "3.6.12"
  }
 },
 "nbformat": 4,
 "nbformat_minor": 5
}
