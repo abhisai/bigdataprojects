{
 "cells": [
  {
   "cell_type": "code",
   "execution_count": 1,
   "id": "fd640b0b",
   "metadata": {},
   "outputs": [],
   "source": [
    "from pyspark.sql import SparkSession\n",
    "import getpass\n",
    "username = getpass.getuser()\n",
    "spark= SparkSession.\\\n",
    "    builder.\\\n",
    "    config('spark.ui.port','0').\\\n",
    "    master('yarn').\\\n",
    "    getOrCreate()"
   ]
  },
  {
   "cell_type": "code",
   "execution_count": 2,
   "id": "384188d2",
   "metadata": {},
   "outputs": [],
   "source": [
    "## To store a single large file in to multiple floders on expense_type "
   ]
  },
  {
   "cell_type": "code",
   "execution_count": 3,
   "id": "c1f801b3",
   "metadata": {},
   "outputs": [],
   "source": [
    "from pyspark.sql.types import *"
   ]
  },
  {
   "cell_type": "code",
   "execution_count": 4,
   "id": "1b5b7a91",
   "metadata": {},
   "outputs": [],
   "source": [
    "transactions_schema = StructType([\n",
    "\tStructField(\"cus_id\",StringType()),\t\n",
    "\tStructField(\"start_date\",DateType()),\n",
    "\tStructField(\"end_date\",DateType()),\n",
    "\tStructField(\"trans_id\",StringType()),\n",
    "\tStructField(\"date_of_transaction\",DateType()),\n",
    "\tStructField(\"year\",StringType()),\n",
    "\tStructField(\"month\",StringType()),\n",
    "\tStructField(\"day\",StringType()),\n",
    "\tStructField(\"exp_type\",StringType()),\n",
    "\tStructField(\"amount\",FloatType()),\n",
    "])"
   ]
  },
  {
   "cell_type": "code",
   "execution_count": 5,
   "id": "308f893f",
   "metadata": {},
   "outputs": [],
   "source": [
    "transactions_df = spark.read \\\n",
    ".format(\"csv\") \\\n",
    ".option(\"InferSchema\",\"True\") \\\n",
    ".schema(transactions_schema) \\\n",
    ".option(\"Header\",\"True\") \\\n",
    ".load(\"/user/itv007180/transactions.csv\")"
   ]
  },
  {
   "cell_type": "code",
   "execution_count": 6,
   "id": "901d267b",
   "metadata": {},
   "outputs": [],
   "source": [
    "## Below is the structure of the file transactions.csv"
   ]
  },
  {
   "cell_type": "code",
   "execution_count": 7,
   "id": "2617aba4",
   "metadata": {},
   "outputs": [
    {
     "name": "stdout",
     "output_type": "stream",
     "text": [
      "+----------+----------+--------+---------------+-------------------+----+-----+---+-------------+------+\n",
      "|    cus_id|start_date|end_date|       trans_id|date_of_transaction|year|month|day|     exp_type|amount|\n",
      "+----------+----------+--------+---------------+-------------------+----+-----+---+-------------+------+\n",
      "|CI6XLYUMQK|2015-05-01|    null|T8I9ZB5A6X90UG8|         2015-09-11|2015|    9| 11| Motor/Travel| 20.27|\n",
      "|CI6XLYUMQK|2015-05-01|    null|TZ4JSLS7SC7FO9H|         2017-02-08|2017|    2|  8| Motor/Travel| 12.85|\n",
      "|CI6XLYUMQK|2015-05-01|    null|TTUKRDDJ6B6F42H|         2015-08-01|2015|    8|  1|      Housing| 383.8|\n",
      "|CI6XLYUMQK|2015-05-01|    null|TDUHFRUKGPPI6HD|         2019-03-16|2019|    3| 16|Entertainment|  5.72|\n",
      "|CI6XLYUMQK|2015-05-01|    null|T0JBZHBMSVRFMMD|         2015-05-15|2015|    5| 15|Entertainment| 11.06|\n",
      "+----------+----------+--------+---------------+-------------------+----+-----+---+-------------+------+\n",
      "only showing top 5 rows\n",
      "\n"
     ]
    }
   ],
   "source": [
    "transactions_df.show(5)"
   ]
  },
  {
   "cell_type": "code",
   "execution_count": 8,
   "id": "41fcf97e",
   "metadata": {},
   "outputs": [],
   "source": [
    "## creating a new df by eliminating the unecessary fields from original df"
   ]
  },
  {
   "cell_type": "code",
   "execution_count": 9,
   "id": "287faad7",
   "metadata": {},
   "outputs": [],
   "source": [
    "transactions_new_df = transactions_df.select(\"cus_id\",\"date_of_transaction\",\"exp_type\",\"amount\")"
   ]
  },
  {
   "cell_type": "code",
   "execution_count": 10,
   "id": "955f3aeb",
   "metadata": {},
   "outputs": [],
   "source": [
    "## Extracting only the active clients by eliminating the customers who already has end_date populated "
   ]
  },
  {
   "cell_type": "code",
   "execution_count": 11,
   "id": "0ac16437",
   "metadata": {},
   "outputs": [],
   "source": [
    "transactions_new_df1 = transactions_df.filter(\"end_date is NULL\").select(\"cus_id\",\"date_of_transaction\",\"exp_type\",\"amount\")"
   ]
  },
  {
   "cell_type": "code",
   "execution_count": 12,
   "id": "72bb60de",
   "metadata": {},
   "outputs": [
    {
     "data": {
      "text/plain": [
       "5578907"
      ]
     },
     "execution_count": 12,
     "metadata": {},
     "output_type": "execute_result"
    }
   ],
   "source": [
    "transactions_new_df1.count()"
   ]
  },
  {
   "cell_type": "code",
   "execution_count": 13,
   "id": "b9549255",
   "metadata": {},
   "outputs": [],
   "source": [
    "## Writing to HDFS by using write api and partitionBy on exp_type"
   ]
  },
  {
   "cell_type": "code",
   "execution_count": 17,
   "id": "89da4a5c",
   "metadata": {},
   "outputs": [],
   "source": [
    "transactions_new_df1.write \\\n",
    ".format(\"csv\") \\\n",
    ".option(\"mode\",\"overwrite\") \\\n",
    ".partitionBy(\"exp_type\") \\\n",
    ".option(\"path\",\"/user/itv007180/trans4\").save()"
   ]
  }
 ],
 "metadata": {
  "kernelspec": {
   "display_name": "Pyspark 3",
   "language": "python",
   "name": "pyspark3"
  },
  "language_info": {
   "codemirror_mode": {
    "name": "ipython",
    "version": 3
   },
   "file_extension": ".py",
   "mimetype": "text/x-python",
   "name": "python",
   "nbconvert_exporter": "python",
   "pygments_lexer": "ipython3",
   "version": "3.6.12"
  }
 },
 "nbformat": 4,
 "nbformat_minor": 5
}
