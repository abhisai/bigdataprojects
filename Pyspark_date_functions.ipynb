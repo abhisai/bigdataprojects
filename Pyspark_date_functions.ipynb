{
 "cells": [
  {
   "cell_type": "code",
   "execution_count": 1,
   "id": "243b5d79",
   "metadata": {},
   "outputs": [],
   "source": [
    "from pyspark.sql import SparkSession"
   ]
  },
  {
   "cell_type": "code",
   "execution_count": 2,
   "id": "a788f363",
   "metadata": {},
   "outputs": [],
   "source": [
    "## Lets deep dive into some important date functions in Pyspark\n",
    "\n",
    "##add_months\n",
    "##date_add\n",
    "##date_sub\n",
    "##year\n",
    "##month\n",
    "##dayofmonth\n",
    "##dayofweek\n",
    "##dayofyear\n",
    "##datediff"
   ]
  },
  {
   "cell_type": "code",
   "execution_count": 3,
   "id": "7b4b3b1a",
   "metadata": {},
   "outputs": [],
   "source": [
    "from pyspark.sql.functions import *"
   ]
  },
  {
   "cell_type": "code",
   "execution_count": 4,
   "id": "77bf0436",
   "metadata": {},
   "outputs": [],
   "source": [
    "spark = SparkSession.builder.appName(\"abhi-09/20\").master('yarn').getOrCreate()"
   ]
  },
  {
   "cell_type": "code",
   "execution_count": 5,
   "id": "b7bd0826",
   "metadata": {},
   "outputs": [],
   "source": [
    "data = [('2020-01-01','company1'),('2020-02-02','company2'),('2023-04-28','company3')]"
   ]
  },
  {
   "cell_type": "code",
   "execution_count": 6,
   "id": "1107cb0a",
   "metadata": {},
   "outputs": [],
   "source": [
    "data_schema = 'intial_date string ,name string'"
   ]
  },
  {
   "cell_type": "code",
   "execution_count": 7,
   "id": "99d82d2b",
   "metadata": {},
   "outputs": [],
   "source": [
    "new_df = spark.createDataFrame(data=data,schema=data_schema)"
   ]
  },
  {
   "cell_type": "code",
   "execution_count": 8,
   "id": "63b7da7e",
   "metadata": {},
   "outputs": [
    {
     "name": "stdout",
     "output_type": "stream",
     "text": [
      "root\n",
      " |-- intial_date: string (nullable = true)\n",
      " |-- name: string (nullable = true)\n",
      "\n"
     ]
    }
   ],
   "source": [
    "new_df.printSchema()"
   ]
  },
  {
   "cell_type": "code",
   "execution_count": 9,
   "id": "85d85a53",
   "metadata": {},
   "outputs": [],
   "source": [
    "## add_months method"
   ]
  },
  {
   "cell_type": "code",
   "execution_count": 10,
   "id": "01487489",
   "metadata": {},
   "outputs": [
    {
     "name": "stdout",
     "output_type": "stream",
     "text": [
      "+-----------+------------------+\n",
      "|intial_date|date_after_2months|\n",
      "+-----------+------------------+\n",
      "| 2020-01-01|        2020-03-01|\n",
      "| 2020-02-02|        2020-04-02|\n",
      "| 2023-04-28|        2023-06-28|\n",
      "+-----------+------------------+\n",
      "\n"
     ]
    }
   ],
   "source": [
    "new_df.select(\"intial_date\",add_months(\"intial_date\",2).alias(\"date_after_2months\")).show()"
   ]
  },
  {
   "cell_type": "code",
   "execution_count": 11,
   "id": "841447f1",
   "metadata": {},
   "outputs": [],
   "source": [
    "## Using date_add function"
   ]
  },
  {
   "cell_type": "code",
   "execution_count": 12,
   "id": "ce1dccdd",
   "metadata": {},
   "outputs": [
    {
     "name": "stdout",
     "output_type": "stream",
     "text": [
      "+-----------+------------------+\n",
      "|intial_date|date_after_20_days|\n",
      "+-----------+------------------+\n",
      "| 2020-01-01|        2020-01-21|\n",
      "| 2020-02-02|        2020-02-22|\n",
      "| 2023-04-28|        2023-05-18|\n",
      "+-----------+------------------+\n",
      "\n"
     ]
    }
   ],
   "source": [
    "new_df.select(new_df.intial_date,date_add(\"intial_date\",20).alias(\"date_after_20_days\")).show()"
   ]
  },
  {
   "cell_type": "code",
   "execution_count": 13,
   "id": "e9e06027",
   "metadata": {},
   "outputs": [],
   "source": [
    "## Using add_sub function"
   ]
  },
  {
   "cell_type": "code",
   "execution_count": 14,
   "id": "ac0b5c95",
   "metadata": {},
   "outputs": [
    {
     "name": "stdout",
     "output_type": "stream",
     "text": [
      "+-----------+-------------------+\n",
      "|intial_date|date_before_20_days|\n",
      "+-----------+-------------------+\n",
      "| 2020-01-01|         2019-12-12|\n",
      "| 2020-02-02|         2020-01-13|\n",
      "| 2023-04-28|         2023-04-08|\n",
      "+-----------+-------------------+\n",
      "\n"
     ]
    }
   ],
   "source": [
    "new_df.select(col('intial_date'),date_sub(\"intial_date\",20).alias(\"date_before_20_days\")).show()"
   ]
  },
  {
   "cell_type": "code",
   "execution_count": 15,
   "id": "0aa13c52",
   "metadata": {},
   "outputs": [],
   "source": [
    "## Using year, month, dayofmonth, dayofweek , dayofyear functions "
   ]
  },
  {
   "cell_type": "code",
   "execution_count": 16,
   "id": "67e89a40",
   "metadata": {},
   "outputs": [
    {
     "name": "stdout",
     "output_type": "stream",
     "text": [
      "+-----------+----+-----+---+-----------+-----------+\n",
      "|intial_date|YEAR|MONTH|DAY|DAY OF WEEK|DAY OF YEAR|\n",
      "+-----------+----+-----+---+-----------+-----------+\n",
      "| 2020-01-01|2020|    1|  1|          4|          1|\n",
      "| 2020-02-02|2020|    2|  2|          1|         33|\n",
      "| 2023-04-28|2023|    4| 28|          6|        118|\n",
      "+-----------+----+-----+---+-----------+-----------+\n",
      "\n"
     ]
    }
   ],
   "source": [
    "new_df.select(col('intial_date') \\\n",
    ",year(\"intial_date\").alias(\"YEAR\") \\\n",
    ",month(\"intial_date\").alias(\"MONTH\") \\\n",
    ",dayofmonth(\"intial_date\").alias(\"DAY\") \\\n",
    ",dayofweek(\"intial_date\").alias(\"DAY OF WEEK\") \\\n",
    ",dayofyear(\"intial_date\").alias(\"DAY OF YEAR\")) \\\n",
    ".show()"
   ]
  },
  {
   "cell_type": "code",
   "execution_count": 17,
   "id": "8506b3bf",
   "metadata": {},
   "outputs": [],
   "source": [
    "## using datediff function"
   ]
  },
  {
   "cell_type": "code",
   "execution_count": 18,
   "id": "cd68271a",
   "metadata": {},
   "outputs": [
    {
     "data": {
      "text/html": [
       "<table border='1'>\n",
       "<tr><th>date_difference_with_current_date</th></tr>\n",
       "<tr><td>1358</td></tr>\n",
       "<tr><td>1326</td></tr>\n",
       "<tr><td>145</td></tr>\n",
       "</table>\n"
      ],
      "text/plain": [
       "+---------------------------------+\n",
       "|date_difference_with_current_date|\n",
       "+---------------------------------+\n",
       "|                             1358|\n",
       "|                             1326|\n",
       "|                              145|\n",
       "+---------------------------------+"
      ]
     },
     "execution_count": 18,
     "metadata": {},
     "output_type": "execute_result"
    }
   ],
   "source": [
    "new_df.select(datediff(current_date(),\"intial_date\").alias(\"date_difference_with_current_date\"))"
   ]
  }
 ],
 "metadata": {
  "kernelspec": {
   "display_name": "Pyspark 3",
   "language": "python",
   "name": "pyspark3"
  },
  "language_info": {
   "codemirror_mode": {
    "name": "ipython",
    "version": 3
   },
   "file_extension": ".py",
   "mimetype": "text/x-python",
   "name": "python",
   "nbconvert_exporter": "python",
   "pygments_lexer": "ipython3",
   "version": "3.6.12"
  }
 },
 "nbformat": 4,
 "nbformat_minor": 5
}
