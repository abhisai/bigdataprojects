{
 "cells": [
  {
   "cell_type": "code",
   "execution_count": 4,
   "id": "ed6b3c87",
   "metadata": {},
   "outputs": [],
   "source": [
    "from pyspark.sql import SparkSession\n",
    "spark = SparkSession.builder.getOrCreate()"
   ]
  },
  {
   "cell_type": "code",
   "execution_count": null,
   "id": "7f25fd74",
   "metadata": {},
   "outputs": [],
   "source": [
    "id,name,city,amount\n",
    "1,,hyd,100\n",
    ",clarke,,\n",
    "3,mike,,\n",
    "4,chris,ny,1000"
   ]
  },
  {
   "cell_type": "code",
   "execution_count": 5,
   "id": "d71c6360",
   "metadata": {},
   "outputs": [
    {
     "data": {
      "text/html": [
       "\n",
       "            <div>\n",
       "                <p><b>SparkSession - in-memory</b></p>\n",
       "                \n",
       "        <div>\n",
       "            <p><b>SparkContext</b></p>\n",
       "\n",
       "            <p><a href=\"http://g01.itversity.com:4041\">Spark UI</a></p>\n",
       "\n",
       "            <dl>\n",
       "              <dt>Version</dt>\n",
       "                <dd><code>v3.1.2</code></dd>\n",
       "              <dt>Master</dt>\n",
       "                <dd><code>yarn</code></dd>\n",
       "              <dt>AppName</dt>\n",
       "                <dd><code>pyspark-shell</code></dd>\n",
       "            </dl>\n",
       "        </div>\n",
       "        \n",
       "            </div>\n",
       "        "
      ],
      "text/plain": [
       "<pyspark.sql.session.SparkSession at 0x7f83c4ae5d30>"
      ]
     },
     "execution_count": 5,
     "metadata": {},
     "output_type": "execute_result"
    }
   ],
   "source": [
    "spark"
   ]
  },
  {
   "cell_type": "code",
   "execution_count": 7,
   "id": "2027bf5b",
   "metadata": {},
   "outputs": [],
   "source": [
    "df = spark.read.format(\"csv\") \\\n",
    ".option(\"header\",\"true\") \\\n",
    ".option(\"inferSchema\",\"true\") \\\n",
    ".load(\"/user/itv007180/text.txt\")"
   ]
  },
  {
   "cell_type": "code",
   "execution_count": 9,
   "id": "40aec8b1",
   "metadata": {},
   "outputs": [
    {
     "name": "stdout",
     "output_type": "stream",
     "text": [
      "+----+------+----+------+\n",
      "|  id|  name|city|amount|\n",
      "+----+------+----+------+\n",
      "|   1|  null| hyd|   100|\n",
      "|null|clarke|null|  null|\n",
      "|   3|  mike|null|  null|\n",
      "|   4| chris|  ny|  1000|\n",
      "+----+------+----+------+\n",
      "\n"
     ]
    }
   ],
   "source": [
    "df.show()"
   ]
  },
  {
   "cell_type": "code",
   "execution_count": 16,
   "id": "2011afaf",
   "metadata": {},
   "outputs": [
    {
     "data": {
      "text/html": [
       "<table border='1'>\n",
       "<tr><th>id</th><th>name</th><th>city</th><th>amount</th></tr>\n",
       "<tr><td>1</td><td>null</td><td>hyd</td><td>100</td></tr>\n",
       "<tr><td>0</td><td>clarke</td><td>null</td><td>0</td></tr>\n",
       "<tr><td>3</td><td>mike</td><td>null</td><td>0</td></tr>\n",
       "<tr><td>4</td><td>chris</td><td>ny</td><td>1000</td></tr>\n",
       "</table>\n"
      ],
      "text/plain": [
       "+---+------+----+------+\n",
       "| id|  name|city|amount|\n",
       "+---+------+----+------+\n",
       "|  1|  null| hyd|   100|\n",
       "|  0|clarke|null|     0|\n",
       "|  3|  mike|null|     0|\n",
       "|  4| chris|  ny|  1000|\n",
       "+---+------+----+------+"
      ]
     },
     "execution_count": 16,
     "metadata": {},
     "output_type": "execute_result"
    }
   ],
   "source": [
    "df.fillna(value=0)"
   ]
  },
  {
   "cell_type": "code",
   "execution_count": 28,
   "id": "90bee5f5",
   "metadata": {},
   "outputs": [
    {
     "data": {
      "text/html": [
       "<table border='1'>\n",
       "<tr><th>id</th><th>name</th><th>city</th><th>amount</th></tr>\n",
       "<tr><td>1</td><td></td><td>hyd</td><td>100</td></tr>\n",
       "<tr><td>null</td><td>clarke</td><td></td><td>null</td></tr>\n",
       "<tr><td>3</td><td>mike</td><td></td><td>null</td></tr>\n",
       "<tr><td>4</td><td>chris</td><td>ny</td><td>1000</td></tr>\n",
       "</table>\n"
      ],
      "text/plain": [
       "+----+------+----+------+\n",
       "|  id|  name|city|amount|\n",
       "+----+------+----+------+\n",
       "|   1|      | hyd|   100|\n",
       "|null|clarke|    |  null|\n",
       "|   3|  mike|    |  null|\n",
       "|   4| chris|  ny|  1000|\n",
       "+----+------+----+------+"
      ]
     },
     "execution_count": 28,
     "metadata": {},
     "output_type": "execute_result"
    }
   ],
   "source": [
    "df.fillna(value=\"\",subset=['city','name'])"
   ]
  },
  {
   "cell_type": "code",
   "execution_count": 24,
   "id": "6795e15c",
   "metadata": {},
   "outputs": [
    {
     "data": {
      "text/html": [
       "<table border='1'>\n",
       "<tr><th>id</th><th>name</th><th>city</th><th>amount</th></tr>\n",
       "<tr><td>1</td><td></td><td>hyd</td><td>100</td></tr>\n",
       "<tr><td>null</td><td>clarke</td><td></td><td>null</td></tr>\n",
       "<tr><td>3</td><td>mike</td><td></td><td>null</td></tr>\n",
       "<tr><td>4</td><td>chris</td><td>ny</td><td>1000</td></tr>\n",
       "</table>\n"
      ],
      "text/plain": [
       "+----+------+----+------+\n",
       "|  id|  name|city|amount|\n",
       "+----+------+----+------+\n",
       "|   1|      | hyd|   100|\n",
       "|null|clarke|    |  null|\n",
       "|   3|  mike|    |  null|\n",
       "|   4| chris|  ny|  1000|\n",
       "+----+------+----+------+"
      ]
     },
     "execution_count": 24,
     "metadata": {},
     "output_type": "execute_result"
    }
   ],
   "source": [
    "df.fillna({'city':\"\",'name':\"\"})"
   ]
  },
  {
   "cell_type": "code",
   "execution_count": 29,
   "id": "5bdc7e9b",
   "metadata": {},
   "outputs": [
    {
     "data": {
      "text/html": [
       "<table border='1'>\n",
       "<tr><th>id</th><th>name</th><th>city</th><th>amount</th></tr>\n",
       "<tr><td>1</td><td></td><td>hyd</td><td>100</td></tr>\n",
       "<tr><td>null</td><td>clarke</td><td></td><td>null</td></tr>\n",
       "<tr><td>3</td><td>mike</td><td></td><td>null</td></tr>\n",
       "<tr><td>4</td><td>chris</td><td>ny</td><td>1000</td></tr>\n",
       "</table>\n"
      ],
      "text/plain": [
       "+----+------+----+------+\n",
       "|  id|  name|city|amount|\n",
       "+----+------+----+------+\n",
       "|   1|      | hyd|   100|\n",
       "|null|clarke|    |  null|\n",
       "|   3|  mike|    |  null|\n",
       "|   4| chris|  ny|  1000|\n",
       "+----+------+----+------+"
      ]
     },
     "execution_count": 29,
     "metadata": {},
     "output_type": "execute_result"
    }
   ],
   "source": [
    "df.na.fill({'city':\"\",'name':\"\"})"
   ]
  },
  {
   "cell_type": "code",
   "execution_count": null,
   "id": "62508085",
   "metadata": {},
   "outputs": [],
   "source": []
  }
 ],
 "metadata": {
  "kernelspec": {
   "display_name": "Pyspark 3",
   "language": "python",
   "name": "pyspark3"
  },
  "language_info": {
   "codemirror_mode": {
    "name": "ipython",
    "version": 3
   },
   "file_extension": ".py",
   "mimetype": "text/x-python",
   "name": "python",
   "nbconvert_exporter": "python",
   "pygments_lexer": "ipython3",
   "version": "3.6.12"
  }
 },
 "nbformat": 4,
 "nbformat_minor": 5
}
