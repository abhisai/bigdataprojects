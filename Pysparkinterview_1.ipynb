{
 "cells": [
  {
   "cell_type": "code",
   "execution_count": 1,
   "id": "fbfb6997",
   "metadata": {},
   "outputs": [],
   "source": [
    "from pyspark.sql import SparkSession\n",
    "spark = SparkSession .\\\n",
    "builder .\\\n",
    "appName(\"Test\") .\\\n",
    "master('yarn') .\\\n",
    "getOrCreate()"
   ]
  },
  {
   "cell_type": "code",
   "execution_count": 2,
   "id": "ca5491e5",
   "metadata": {},
   "outputs": [],
   "source": [
    "## Input data used from LinkedIn"
   ]
  },
  {
   "cell_type": "code",
   "execution_count": 3,
   "id": "5a5f41f4",
   "metadata": {},
   "outputs": [],
   "source": [
    "data = [(1,'C101','2023-07-01',150),(2,'C102','2023-07-02',200),(3,'C101','2023-07-02',100),(4,'C103','2023-07-03',300),(5,'C102','2023-07-04',250),(6,'C101','2023-07-05',120)]"
   ]
  },
  {
   "cell_type": "code",
   "execution_count": 4,
   "id": "a4ad3988",
   "metadata": {},
   "outputs": [],
   "source": [
    "schema = [\"order_id\" , \"cus_id\" , \"order_date\" , \"amount\"]"
   ]
  },
  {
   "cell_type": "code",
   "execution_count": 5,
   "id": "4f7e2682",
   "metadata": {},
   "outputs": [],
   "source": [
    "df = spark.createDataFrame(data,schema)"
   ]
  },
  {
   "cell_type": "code",
   "execution_count": 6,
   "id": "e54707fd",
   "metadata": {},
   "outputs": [],
   "source": [
    "from pyspark.sql.functions import * "
   ]
  },
  {
   "cell_type": "code",
   "execution_count": 7,
   "id": "b75f662d",
   "metadata": {},
   "outputs": [
    {
     "name": "stdout",
     "output_type": "stream",
     "text": [
      "+--------+------+----------+------+\n",
      "|order_id|cus_id|order_date|amount|\n",
      "+--------+------+----------+------+\n",
      "|       1|  C101|2023-07-01|   150|\n",
      "|       2|  C102|2023-07-02|   200|\n",
      "|       3|  C101|2023-07-02|   100|\n",
      "|       4|  C103|2023-07-03|   300|\n",
      "|       5|  C102|2023-07-04|   250|\n",
      "|       6|  C101|2023-07-05|   120|\n",
      "+--------+------+----------+------+\n",
      "\n"
     ]
    }
   ],
   "source": [
    "df.show()"
   ]
  },
  {
   "cell_type": "code",
   "execution_count": 8,
   "id": "37448859",
   "metadata": {},
   "outputs": [],
   "source": [
    "## Total revenue from all orders "
   ]
  },
  {
   "cell_type": "code",
   "execution_count": 9,
   "id": "ed80cd59",
   "metadata": {},
   "outputs": [
    {
     "name": "stdout",
     "output_type": "stream",
     "text": [
      "+-----------+\n",
      "|sum(amount)|\n",
      "+-----------+\n",
      "|       1120|\n",
      "+-----------+\n",
      "\n"
     ]
    }
   ],
   "source": [
    "q1 = df.select(sum(\"amount\")).show()"
   ]
  },
  {
   "cell_type": "code",
   "execution_count": 10,
   "id": "dac3c36a",
   "metadata": {},
   "outputs": [],
   "source": [
    "q1 = df.select(sum(\"amount\")).collect()"
   ]
  },
  {
   "cell_type": "code",
   "execution_count": 11,
   "id": "0c8ab97d",
   "metadata": {},
   "outputs": [],
   "source": [
    "## Here if we see q1 is an Array of Row Type and it will be send to driver. So make sure data is small "
   ]
  },
  {
   "cell_type": "code",
   "execution_count": 12,
   "id": "6fffc55b",
   "metadata": {},
   "outputs": [
    {
     "name": "stdout",
     "output_type": "stream",
     "text": [
      "[Row(sum(amount)=1120)]\n"
     ]
    }
   ],
   "source": [
    "print(q1)"
   ]
  },
  {
   "cell_type": "code",
   "execution_count": 13,
   "id": "651a5efe",
   "metadata": {},
   "outputs": [
    {
     "name": "stdout",
     "output_type": "stream",
     "text": [
      "1120\n"
     ]
    }
   ],
   "source": [
    "print(q1[0][0])"
   ]
  },
  {
   "cell_type": "code",
   "execution_count": 14,
   "id": "2d7c81ba",
   "metadata": {},
   "outputs": [],
   "source": [
    "## Average order amount "
   ]
  },
  {
   "cell_type": "code",
   "execution_count": 15,
   "id": "8d7eefc9",
   "metadata": {},
   "outputs": [],
   "source": [
    "q2 = df.agg(round(avg(\"amount\"),2)).collect()[0][0]"
   ]
  },
  {
   "cell_type": "code",
   "execution_count": 16,
   "id": "49186578",
   "metadata": {},
   "outputs": [
    {
     "name": "stdout",
     "output_type": "stream",
     "text": [
      "186.67\n"
     ]
    }
   ],
   "source": [
    "print(q2)"
   ]
  },
  {
   "cell_type": "code",
   "execution_count": 17,
   "id": "19f6dc81",
   "metadata": {},
   "outputs": [],
   "source": [
    "## Highest total amount and corresponding owner "
   ]
  },
  {
   "cell_type": "code",
   "execution_count": 18,
   "id": "99a90fda",
   "metadata": {},
   "outputs": [],
   "source": [
    "q3 = df.orderBy(\"amount\",ascending=False).limit(1).select(\"cus_id\",\"amount\").collect()"
   ]
  },
  {
   "cell_type": "code",
   "execution_count": 19,
   "id": "d61943ad",
   "metadata": {},
   "outputs": [
    {
     "name": "stdout",
     "output_type": "stream",
     "text": [
      "Customer who made higest order :  C103\n",
      "Highest ordr amount is         : 300\n"
     ]
    }
   ],
   "source": [
    "print(\"Customer who made higest order : \", q3[0][0])\n",
    "print(\"Highest ordr amount is         :\" , q3[0][1])"
   ]
  },
  {
   "cell_type": "code",
   "execution_count": 20,
   "id": "4a6d9245",
   "metadata": {},
   "outputs": [],
   "source": [
    "## total number of orders per customer"
   ]
  },
  {
   "cell_type": "code",
   "execution_count": 21,
   "id": "b2938390",
   "metadata": {},
   "outputs": [
    {
     "name": "stdout",
     "output_type": "stream",
     "text": [
      "+------+-----+\n",
      "|cus_id|count|\n",
      "+------+-----+\n",
      "|  C102|    2|\n",
      "|  C103|    1|\n",
      "|  C101|    3|\n",
      "+------+-----+\n",
      "\n"
     ]
    }
   ],
   "source": [
    "q4 = df.groupBy(\"cus_id\").count().alias(\"total_orders\").show()"
   ]
  }
 ],
 "metadata": {
  "kernelspec": {
   "display_name": "Pyspark 3",
   "language": "python",
   "name": "pyspark3"
  },
  "language_info": {
   "codemirror_mode": {
    "name": "ipython",
    "version": 3
   },
   "file_extension": ".py",
   "mimetype": "text/x-python",
   "name": "python",
   "nbconvert_exporter": "python",
   "pygments_lexer": "ipython3",
   "version": "3.6.12"
  }
 },
 "nbformat": 4,
 "nbformat_minor": 5
}
